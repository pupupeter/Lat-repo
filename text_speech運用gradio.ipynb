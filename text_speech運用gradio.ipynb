{
  "nbformat": 4,
  "nbformat_minor": 0,
  "metadata": {
    "colab": {
      "provenance": []
    },
    "kernelspec": {
      "name": "python3",
      "display_name": "Python 3"
    },
    "language_info": {
      "name": "python"
    }
  },
  "cells": [
    {
      "cell_type": "code",
      "execution_count": null,
      "metadata": {
        "colab": {
          "base_uri": "https://localhost:8080/"
        },
        "id": "FcPq7w8GCeV7",
        "outputId": "c6297a7c-8512-44a8-e364-3d0a24a624fa"
      },
      "outputs": [
        {
          "output_type": "stream",
          "name": "stdout",
          "text": [
            "Collecting gTTS\n",
            "  Downloading gTTS-2.5.1-py3-none-any.whl (29 kB)\n",
            "Requirement already satisfied: requests<3,>=2.27 in /usr/local/lib/python3.10/dist-packages (from gTTS) (2.31.0)\n",
            "Requirement already satisfied: click<8.2,>=7.1 in /usr/local/lib/python3.10/dist-packages (from gTTS) (8.1.7)\n",
            "Requirement already satisfied: charset-normalizer<4,>=2 in /usr/local/lib/python3.10/dist-packages (from requests<3,>=2.27->gTTS) (3.3.2)\n",
            "Requirement already satisfied: idna<4,>=2.5 in /usr/local/lib/python3.10/dist-packages (from requests<3,>=2.27->gTTS) (3.6)\n",
            "Requirement already satisfied: urllib3<3,>=1.21.1 in /usr/local/lib/python3.10/dist-packages (from requests<3,>=2.27->gTTS) (2.0.7)\n",
            "Requirement already satisfied: certifi>=2017.4.17 in /usr/local/lib/python3.10/dist-packages (from requests<3,>=2.27->gTTS) (2024.2.2)\n",
            "Installing collected packages: gTTS\n",
            "Successfully installed gTTS-2.5.1\n"
          ]
        }
      ],
      "source": [
        "!pip install gTTS\n"
      ]
    },
    {
      "cell_type": "code",
      "source": [
        "from gtts import gTTS\n",
        "\n",
        "text_to_say = \"상세하고 친절한 리뷰 감사드려요. \"\n",
        "\n",
        "language = \"ko\"\n",
        "\n",
        "gtts_object = gTTS(text = text_to_say,\n",
        "                  lang = language,\n",
        "                  slow = False)\n",
        "\n",
        "gtts_object.save(\"/content/gtts.wav\")\n"
      ],
      "metadata": {
        "id": "bNn10yXqCjIU"
      },
      "execution_count": null,
      "outputs": []
    },
    {
      "cell_type": "code",
      "source": [
        "\n",
        "from IPython.display import Audio\n",
        "\n",
        "Audio(\"/content/gtts.wav\")"
      ],
      "metadata": {
        "colab": {
          "base_uri": "https://localhost:8080/",
          "height": 76
        },
        "id": "deASgOHAEosZ",
        "outputId": "93314b12-6fcd-4cea-e494-21086e199fdf"
      },
      "execution_count": null,
      "outputs": [
        {
          "output_type": "execute_result",
          "data": {
            "text/plain": [
              "<IPython.lib.display.Audio object>"
            ],
            "text/html": [
              "\n",
              "                <audio  controls=\"controls\" >\n",
              "                    <source src=\"data:audio/x-wav;base64,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\" type=\"audio/x-wav\" />\n",
              "                    Your browser does not support the audio element.\n",
              "                </audio>\n",
              "              "
            ]
          },
          "metadata": {},
          "execution_count": 37
        }
      ]
    },
    {
      "cell_type": "code",
      "source": [],
      "metadata": {
        "id": "VMLT0RlInL-L"
      },
      "execution_count": null,
      "outputs": []
    },
    {
      "cell_type": "code",
      "source": [
        "from gtts import gTTS\n",
        "\n",
        "text_to_say = \"你好我是許家瑋 \"\n",
        "\n",
        "language = \"zh-Tw\"\n",
        "\n",
        "gtts_object = gTTS(text = text_to_say,\n",
        "                  lang = language,\n",
        "                  slow = False)\n",
        "\n",
        "gtts_object.save(\"/content/gtts2.wav\")\n"
      ],
      "metadata": {
        "colab": {
          "base_uri": "https://localhost:8080/"
        },
        "id": "mT2LX8F8GlYe",
        "outputId": "d945d188-d28e-44c4-f771-e9a622a5935b"
      },
      "execution_count": null,
      "outputs": [
        {
          "output_type": "stream",
          "name": "stderr",
          "text": [
            "WARNING:gtts.lang:'zh-Tw' has been deprecated, falling back to 'zh-TW'. This fallback will be removed in a future version.\n"
          ]
        }
      ]
    },
    {
      "cell_type": "code",
      "source": [
        "from IPython.display import Audio\n",
        "\n",
        "Audio(\"/content/gtts2.wav\")\n",
        "\n"
      ],
      "metadata": {
        "colab": {
          "base_uri": "https://localhost:8080/",
          "height": 76
        },
        "id": "mjvUVwGBGd05",
        "outputId": "a4bfa161-bb3e-4fab-dcb2-fb78a8ad36c4"
      },
      "execution_count": null,
      "outputs": [
        {
          "output_type": "execute_result",
          "data": {
            "text/plain": [
              "<IPython.lib.display.Audio object>"
            ],
            "text/html": [
              "\n",
              "                <audio  controls=\"controls\" >\n",
              "                    <source src=\"data:audio/x-wav;base64,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\" type=\"audio/x-wav\" />\n",
              "                    Your browser does not support the audio element.\n",
              "                </audio>\n",
              "              "
            ]
          },
          "metadata": {},
          "execution_count": 46
        }
      ]
    },
    {
      "cell_type": "code",
      "source": [
        "pip install -U gradio"
      ],
      "metadata": {
        "colab": {
          "base_uri": "https://localhost:8080/"
        },
        "id": "_20Ds2HHagyz",
        "outputId": "65bad982-91b5-4eba-cd3d-7bfd43ca8b82"
      },
      "execution_count": null,
      "outputs": [
        {
          "output_type": "stream",
          "name": "stdout",
          "text": [
            "Collecting gradio\n",
            "  Downloading gradio-4.20.1-py3-none-any.whl (17.0 MB)\n",
            "\u001b[2K     \u001b[90m━━━━━━━━━━━━━━━━━━━━━━━━━━━━━━━━━━━━━━━━\u001b[0m \u001b[32m17.0/17.0 MB\u001b[0m \u001b[31m34.1 MB/s\u001b[0m eta \u001b[36m0:00:00\u001b[0m\n",
            "\u001b[?25hCollecting aiofiles<24.0,>=22.0 (from gradio)\n",
            "  Downloading aiofiles-23.2.1-py3-none-any.whl (15 kB)\n",
            "Requirement already satisfied: altair<6.0,>=4.2.0 in /usr/local/lib/python3.10/dist-packages (from gradio) (4.2.2)\n",
            "Collecting fastapi (from gradio)\n",
            "  Downloading fastapi-0.110.0-py3-none-any.whl (92 kB)\n",
            "\u001b[2K     \u001b[90m━━━━━━━━━━━━━━━━━━━━━━━━━━━━━━━━━━━━━━━━\u001b[0m \u001b[32m92.1/92.1 kB\u001b[0m \u001b[31m11.5 MB/s\u001b[0m eta \u001b[36m0:00:00\u001b[0m\n",
            "\u001b[?25hCollecting ffmpy (from gradio)\n",
            "  Downloading ffmpy-0.3.2.tar.gz (5.5 kB)\n",
            "  Preparing metadata (setup.py) ... \u001b[?25l\u001b[?25hdone\n",
            "Collecting gradio-client==0.11.0 (from gradio)\n",
            "  Downloading gradio_client-0.11.0-py3-none-any.whl (308 kB)\n",
            "\u001b[2K     \u001b[90m━━━━━━━━━━━━━━━━━━━━━━━━━━━━━━━━━━━━━━━━\u001b[0m \u001b[32m308.2/308.2 kB\u001b[0m \u001b[31m31.5 MB/s\u001b[0m eta \u001b[36m0:00:00\u001b[0m\n",
            "\u001b[?25hCollecting httpx>=0.24.1 (from gradio)\n",
            "  Downloading httpx-0.27.0-py3-none-any.whl (75 kB)\n",
            "\u001b[2K     \u001b[90m━━━━━━━━━━━━━━━━━━━━━━━━━━━━━━━━━━━━━━━━\u001b[0m \u001b[32m75.6/75.6 kB\u001b[0m \u001b[31m9.1 MB/s\u001b[0m eta \u001b[36m0:00:00\u001b[0m\n",
            "\u001b[?25hRequirement already satisfied: huggingface-hub>=0.19.3 in /usr/local/lib/python3.10/dist-packages (from gradio) (0.20.3)\n",
            "Requirement already satisfied: importlib-resources<7.0,>=1.3 in /usr/local/lib/python3.10/dist-packages (from gradio) (6.1.2)\n",
            "Requirement already satisfied: jinja2<4.0 in /usr/local/lib/python3.10/dist-packages (from gradio) (3.1.3)\n",
            "Requirement already satisfied: markupsafe~=2.0 in /usr/local/lib/python3.10/dist-packages (from gradio) (2.1.5)\n",
            "Requirement already satisfied: matplotlib~=3.0 in /usr/local/lib/python3.10/dist-packages (from gradio) (3.7.1)\n",
            "Requirement already satisfied: numpy~=1.0 in /usr/local/lib/python3.10/dist-packages (from gradio) (1.25.2)\n",
            "Collecting orjson~=3.0 (from gradio)\n",
            "  Downloading orjson-3.9.15-cp310-cp310-manylinux_2_17_x86_64.manylinux2014_x86_64.whl (138 kB)\n",
            "\u001b[2K     \u001b[90m━━━━━━━━━━━━━━━━━━━━━━━━━━━━━━━━━━━━━━━━\u001b[0m \u001b[32m138.5/138.5 kB\u001b[0m \u001b[31m16.7 MB/s\u001b[0m eta \u001b[36m0:00:00\u001b[0m\n",
            "\u001b[?25hRequirement already satisfied: packaging in /usr/local/lib/python3.10/dist-packages (from gradio) (23.2)\n",
            "Requirement already satisfied: pandas<3.0,>=1.0 in /usr/local/lib/python3.10/dist-packages (from gradio) (1.5.3)\n",
            "Requirement already satisfied: pillow<11.0,>=8.0 in /usr/local/lib/python3.10/dist-packages (from gradio) (9.4.0)\n",
            "Requirement already satisfied: pydantic>=2.0 in /usr/local/lib/python3.10/dist-packages (from gradio) (2.6.3)\n",
            "Collecting pydub (from gradio)\n",
            "  Downloading pydub-0.25.1-py2.py3-none-any.whl (32 kB)\n",
            "Collecting python-multipart>=0.0.9 (from gradio)\n",
            "  Downloading python_multipart-0.0.9-py3-none-any.whl (22 kB)\n",
            "Requirement already satisfied: pyyaml<7.0,>=5.0 in /usr/local/lib/python3.10/dist-packages (from gradio) (6.0.1)\n",
            "Collecting ruff>=0.2.2 (from gradio)\n",
            "  Downloading ruff-0.3.1-py3-none-manylinux_2_17_x86_64.manylinux2014_x86_64.whl (7.9 MB)\n",
            "\u001b[2K     \u001b[90m━━━━━━━━━━━━━━━━━━━━━━━━━━━━━━━━━━━━━━━━\u001b[0m \u001b[32m7.9/7.9 MB\u001b[0m \u001b[31m60.8 MB/s\u001b[0m eta \u001b[36m0:00:00\u001b[0m\n",
            "\u001b[?25hCollecting semantic-version~=2.0 (from gradio)\n",
            "  Downloading semantic_version-2.10.0-py2.py3-none-any.whl (15 kB)\n",
            "Collecting tomlkit==0.12.0 (from gradio)\n",
            "  Downloading tomlkit-0.12.0-py3-none-any.whl (37 kB)\n",
            "Requirement already satisfied: typer[all]<1.0,>=0.9 in /usr/local/lib/python3.10/dist-packages (from gradio) (0.9.0)\n",
            "Requirement already satisfied: typing-extensions~=4.0 in /usr/local/lib/python3.10/dist-packages (from gradio) (4.10.0)\n",
            "Collecting uvicorn>=0.14.0 (from gradio)\n",
            "  Downloading uvicorn-0.27.1-py3-none-any.whl (60 kB)\n",
            "\u001b[2K     \u001b[90m━━━━━━━━━━━━━━━━━━━━━━━━━━━━━━━━━━━━━━━━\u001b[0m \u001b[32m60.8/60.8 kB\u001b[0m \u001b[31m7.7 MB/s\u001b[0m eta \u001b[36m0:00:00\u001b[0m\n",
            "\u001b[?25hRequirement already satisfied: fsspec in /usr/local/lib/python3.10/dist-packages (from gradio-client==0.11.0->gradio) (2023.6.0)\n",
            "Collecting websockets<12.0,>=10.0 (from gradio-client==0.11.0->gradio)\n",
            "  Downloading websockets-11.0.3-cp310-cp310-manylinux_2_5_x86_64.manylinux1_x86_64.manylinux_2_17_x86_64.manylinux2014_x86_64.whl (129 kB)\n",
            "\u001b[2K     \u001b[90m━━━━━━━━━━━━━━━━━━━━━━━━━━━━━━━━━━━━━━━━\u001b[0m \u001b[32m129.9/129.9 kB\u001b[0m \u001b[31m14.6 MB/s\u001b[0m eta \u001b[36m0:00:00\u001b[0m\n",
            "\u001b[?25hRequirement already satisfied: entrypoints in /usr/local/lib/python3.10/dist-packages (from altair<6.0,>=4.2.0->gradio) (0.4)\n",
            "Requirement already satisfied: jsonschema>=3.0 in /usr/local/lib/python3.10/dist-packages (from altair<6.0,>=4.2.0->gradio) (4.19.2)\n",
            "Requirement already satisfied: toolz in /usr/local/lib/python3.10/dist-packages (from altair<6.0,>=4.2.0->gradio) (0.12.1)\n",
            "Requirement already satisfied: anyio in /usr/local/lib/python3.10/dist-packages (from httpx>=0.24.1->gradio) (3.7.1)\n",
            "Requirement already satisfied: certifi in /usr/local/lib/python3.10/dist-packages (from httpx>=0.24.1->gradio) (2024.2.2)\n",
            "Collecting httpcore==1.* (from httpx>=0.24.1->gradio)\n",
            "  Downloading httpcore-1.0.4-py3-none-any.whl (77 kB)\n",
            "\u001b[2K     \u001b[90m━━━━━━━━━━━━━━━━━━━━━━━━━━━━━━━━━━━━━━━━\u001b[0m \u001b[32m77.8/77.8 kB\u001b[0m \u001b[31m9.7 MB/s\u001b[0m eta \u001b[36m0:00:00\u001b[0m\n",
            "\u001b[?25hRequirement already satisfied: idna in /usr/local/lib/python3.10/dist-packages (from httpx>=0.24.1->gradio) (3.6)\n",
            "Requirement already satisfied: sniffio in /usr/local/lib/python3.10/dist-packages (from httpx>=0.24.1->gradio) (1.3.1)\n",
            "Collecting h11<0.15,>=0.13 (from httpcore==1.*->httpx>=0.24.1->gradio)\n",
            "  Downloading h11-0.14.0-py3-none-any.whl (58 kB)\n",
            "\u001b[2K     \u001b[90m━━━━━━━━━━━━━━━━━━━━━━━━━━━━━━━━━━━━━━━━\u001b[0m \u001b[32m58.3/58.3 kB\u001b[0m \u001b[31m6.1 MB/s\u001b[0m eta \u001b[36m0:00:00\u001b[0m\n",
            "\u001b[?25hRequirement already satisfied: filelock in /usr/local/lib/python3.10/dist-packages (from huggingface-hub>=0.19.3->gradio) (3.13.1)\n",
            "Requirement already satisfied: requests in /usr/local/lib/python3.10/dist-packages (from huggingface-hub>=0.19.3->gradio) (2.31.0)\n",
            "Requirement already satisfied: tqdm>=4.42.1 in /usr/local/lib/python3.10/dist-packages (from huggingface-hub>=0.19.3->gradio) (4.66.2)\n",
            "Requirement already satisfied: contourpy>=1.0.1 in /usr/local/lib/python3.10/dist-packages (from matplotlib~=3.0->gradio) (1.2.0)\n",
            "Requirement already satisfied: cycler>=0.10 in /usr/local/lib/python3.10/dist-packages (from matplotlib~=3.0->gradio) (0.12.1)\n",
            "Requirement already satisfied: fonttools>=4.22.0 in /usr/local/lib/python3.10/dist-packages (from matplotlib~=3.0->gradio) (4.49.0)\n",
            "Requirement already satisfied: kiwisolver>=1.0.1 in /usr/local/lib/python3.10/dist-packages (from matplotlib~=3.0->gradio) (1.4.5)\n",
            "Requirement already satisfied: pyparsing>=2.3.1 in /usr/local/lib/python3.10/dist-packages (from matplotlib~=3.0->gradio) (3.1.1)\n",
            "Requirement already satisfied: python-dateutil>=2.7 in /usr/local/lib/python3.10/dist-packages (from matplotlib~=3.0->gradio) (2.8.2)\n",
            "Requirement already satisfied: pytz>=2020.1 in /usr/local/lib/python3.10/dist-packages (from pandas<3.0,>=1.0->gradio) (2023.4)\n",
            "Requirement already satisfied: annotated-types>=0.4.0 in /usr/local/lib/python3.10/dist-packages (from pydantic>=2.0->gradio) (0.6.0)\n",
            "Requirement already satisfied: pydantic-core==2.16.3 in /usr/local/lib/python3.10/dist-packages (from pydantic>=2.0->gradio) (2.16.3)\n",
            "Requirement already satisfied: click<9.0.0,>=7.1.1 in /usr/local/lib/python3.10/dist-packages (from typer[all]<1.0,>=0.9->gradio) (8.1.7)\n",
            "Collecting colorama<0.5.0,>=0.4.3 (from typer[all]<1.0,>=0.9->gradio)\n",
            "  Downloading colorama-0.4.6-py2.py3-none-any.whl (25 kB)\n",
            "Collecting shellingham<2.0.0,>=1.3.0 (from typer[all]<1.0,>=0.9->gradio)\n",
            "  Downloading shellingham-1.5.4-py2.py3-none-any.whl (9.8 kB)\n",
            "Requirement already satisfied: rich<14.0.0,>=10.11.0 in /usr/local/lib/python3.10/dist-packages (from typer[all]<1.0,>=0.9->gradio) (13.7.1)\n",
            "Collecting starlette<0.37.0,>=0.36.3 (from fastapi->gradio)\n",
            "  Downloading starlette-0.36.3-py3-none-any.whl (71 kB)\n",
            "\u001b[2K     \u001b[90m━━━━━━━━━━━━━━━━━━━━━━━━━━━━━━━━━━━━━━━━\u001b[0m \u001b[32m71.5/71.5 kB\u001b[0m \u001b[31m9.0 MB/s\u001b[0m eta \u001b[36m0:00:00\u001b[0m\n",
            "\u001b[?25hRequirement already satisfied: attrs>=22.2.0 in /usr/local/lib/python3.10/dist-packages (from jsonschema>=3.0->altair<6.0,>=4.2.0->gradio) (23.2.0)\n",
            "Requirement already satisfied: jsonschema-specifications>=2023.03.6 in /usr/local/lib/python3.10/dist-packages (from jsonschema>=3.0->altair<6.0,>=4.2.0->gradio) (2023.12.1)\n",
            "Requirement already satisfied: referencing>=0.28.4 in /usr/local/lib/python3.10/dist-packages (from jsonschema>=3.0->altair<6.0,>=4.2.0->gradio) (0.33.0)\n",
            "Requirement already satisfied: rpds-py>=0.7.1 in /usr/local/lib/python3.10/dist-packages (from jsonschema>=3.0->altair<6.0,>=4.2.0->gradio) (0.18.0)\n",
            "Requirement already satisfied: six>=1.5 in /usr/local/lib/python3.10/dist-packages (from python-dateutil>=2.7->matplotlib~=3.0->gradio) (1.16.0)\n",
            "Requirement already satisfied: markdown-it-py>=2.2.0 in /usr/local/lib/python3.10/dist-packages (from rich<14.0.0,>=10.11.0->typer[all]<1.0,>=0.9->gradio) (3.0.0)\n",
            "Requirement already satisfied: pygments<3.0.0,>=2.13.0 in /usr/local/lib/python3.10/dist-packages (from rich<14.0.0,>=10.11.0->typer[all]<1.0,>=0.9->gradio) (2.16.1)\n",
            "Requirement already satisfied: exceptiongroup in /usr/local/lib/python3.10/dist-packages (from anyio->httpx>=0.24.1->gradio) (1.2.0)\n",
            "Requirement already satisfied: charset-normalizer<4,>=2 in /usr/local/lib/python3.10/dist-packages (from requests->huggingface-hub>=0.19.3->gradio) (3.3.2)\n",
            "Requirement already satisfied: urllib3<3,>=1.21.1 in /usr/local/lib/python3.10/dist-packages (from requests->huggingface-hub>=0.19.3->gradio) (2.0.7)\n",
            "Requirement already satisfied: mdurl~=0.1 in /usr/local/lib/python3.10/dist-packages (from markdown-it-py>=2.2.0->rich<14.0.0,>=10.11.0->typer[all]<1.0,>=0.9->gradio) (0.1.2)\n",
            "Building wheels for collected packages: ffmpy\n",
            "  Building wheel for ffmpy (setup.py) ... \u001b[?25l\u001b[?25hdone\n",
            "  Created wheel for ffmpy: filename=ffmpy-0.3.2-py3-none-any.whl size=5584 sha256=a6d91a8790c881479f7c476da9bd482a8b30ba6ccbacd274a13bf2f54b723b51\n",
            "  Stored in directory: /root/.cache/pip/wheels/bd/65/9a/671fc6dcde07d4418df0c592f8df512b26d7a0029c2a23dd81\n",
            "Successfully built ffmpy\n",
            "Installing collected packages: pydub, ffmpy, websockets, tomlkit, shellingham, semantic-version, ruff, python-multipart, orjson, h11, colorama, aiofiles, uvicorn, starlette, httpcore, httpx, fastapi, gradio-client, gradio\n",
            "Successfully installed aiofiles-23.2.1 colorama-0.4.6 fastapi-0.110.0 ffmpy-0.3.2 gradio-4.20.1 gradio-client-0.11.0 h11-0.14.0 httpcore-1.0.4 httpx-0.27.0 orjson-3.9.15 pydub-0.25.1 python-multipart-0.0.9 ruff-0.3.1 semantic-version-2.10.0 shellingham-1.5.4 starlette-0.36.3 tomlkit-0.12.0 uvicorn-0.27.1 websockets-11.0.3\n"
          ]
        }
      ]
    },
    {
      "cell_type": "code",
      "source": [
        "from gtts import gTTS\n",
        "\n",
        "text_to_say = \"你好我是許家瑋 \"\n",
        "\n",
        "language = \"zh-Tw\"\n",
        "\n",
        "gtts_object = gTTS(text = text_to_say,\n",
        "                  lang = language,\n",
        "                  slow = False)\n",
        "\n",
        "gtts_object.save(\"/content/gtts3.wav\")\n",
        "from IPython.display import Audio\n",
        "\n",
        "Audio(\"/content/gtts3.wav\")"
      ],
      "metadata": {
        "id": "RUQfJxK1JeX4",
        "colab": {
          "base_uri": "https://localhost:8080/"
        },
        "outputId": "a5ced447-380d-412d-912c-77d1eb1258ca"
      },
      "execution_count": null,
      "outputs": [
        {
          "output_type": "stream",
          "name": "stderr",
          "text": [
            "WARNING:gtts.lang:'zh-Tw' has been deprecated, falling back to 'zh-TW'. This fallback will be removed in a future version.\n"
          ]
        }
      ]
    },
    {
      "cell_type": "code",
      "source": [
        "pip install -U gradio\n"
      ],
      "metadata": {
        "colab": {
          "base_uri": "https://localhost:8080/"
        },
        "id": "h199YfHVjGM_",
        "outputId": "b3cb1bcd-fb75-4598-82f6-624184c51f8f"
      },
      "execution_count": null,
      "outputs": [
        {
          "output_type": "stream",
          "name": "stdout",
          "text": [
            "Requirement already satisfied: gradio in /usr/local/lib/python3.10/dist-packages (4.20.1)\n",
            "Requirement already satisfied: aiofiles<24.0,>=22.0 in /usr/local/lib/python3.10/dist-packages (from gradio) (23.2.1)\n",
            "Requirement already satisfied: altair<6.0,>=4.2.0 in /usr/local/lib/python3.10/dist-packages (from gradio) (4.2.2)\n",
            "Requirement already satisfied: fastapi in /usr/local/lib/python3.10/dist-packages (from gradio) (0.110.0)\n",
            "Requirement already satisfied: ffmpy in /usr/local/lib/python3.10/dist-packages (from gradio) (0.3.2)\n",
            "Requirement already satisfied: gradio-client==0.11.0 in /usr/local/lib/python3.10/dist-packages (from gradio) (0.11.0)\n",
            "Requirement already satisfied: httpx>=0.24.1 in /usr/local/lib/python3.10/dist-packages (from gradio) (0.27.0)\n",
            "Requirement already satisfied: huggingface-hub>=0.19.3 in /usr/local/lib/python3.10/dist-packages (from gradio) (0.20.3)\n",
            "Requirement already satisfied: importlib-resources<7.0,>=1.3 in /usr/local/lib/python3.10/dist-packages (from gradio) (6.1.2)\n",
            "Requirement already satisfied: jinja2<4.0 in /usr/local/lib/python3.10/dist-packages (from gradio) (3.1.3)\n",
            "Requirement already satisfied: markupsafe~=2.0 in /usr/local/lib/python3.10/dist-packages (from gradio) (2.1.5)\n",
            "Requirement already satisfied: matplotlib~=3.0 in /usr/local/lib/python3.10/dist-packages (from gradio) (3.7.1)\n",
            "Requirement already satisfied: numpy~=1.0 in /usr/local/lib/python3.10/dist-packages (from gradio) (1.25.2)\n",
            "Requirement already satisfied: orjson~=3.0 in /usr/local/lib/python3.10/dist-packages (from gradio) (3.9.15)\n",
            "Requirement already satisfied: packaging in /usr/local/lib/python3.10/dist-packages (from gradio) (23.2)\n",
            "Requirement already satisfied: pandas<3.0,>=1.0 in /usr/local/lib/python3.10/dist-packages (from gradio) (1.5.3)\n",
            "Requirement already satisfied: pillow<11.0,>=8.0 in /usr/local/lib/python3.10/dist-packages (from gradio) (9.4.0)\n",
            "Requirement already satisfied: pydantic>=2.0 in /usr/local/lib/python3.10/dist-packages (from gradio) (2.6.3)\n",
            "Requirement already satisfied: pydub in /usr/local/lib/python3.10/dist-packages (from gradio) (0.25.1)\n",
            "Requirement already satisfied: python-multipart>=0.0.9 in /usr/local/lib/python3.10/dist-packages (from gradio) (0.0.9)\n",
            "Requirement already satisfied: pyyaml<7.0,>=5.0 in /usr/local/lib/python3.10/dist-packages (from gradio) (6.0.1)\n",
            "Requirement already satisfied: ruff>=0.2.2 in /usr/local/lib/python3.10/dist-packages (from gradio) (0.3.1)\n",
            "Requirement already satisfied: semantic-version~=2.0 in /usr/local/lib/python3.10/dist-packages (from gradio) (2.10.0)\n",
            "Requirement already satisfied: tomlkit==0.12.0 in /usr/local/lib/python3.10/dist-packages (from gradio) (0.12.0)\n",
            "Requirement already satisfied: typer[all]<1.0,>=0.9 in /usr/local/lib/python3.10/dist-packages (from gradio) (0.9.0)\n",
            "Requirement already satisfied: typing-extensions~=4.0 in /usr/local/lib/python3.10/dist-packages (from gradio) (4.10.0)\n",
            "Requirement already satisfied: uvicorn>=0.14.0 in /usr/local/lib/python3.10/dist-packages (from gradio) (0.27.1)\n",
            "Requirement already satisfied: fsspec in /usr/local/lib/python3.10/dist-packages (from gradio-client==0.11.0->gradio) (2023.6.0)\n",
            "Requirement already satisfied: websockets<12.0,>=10.0 in /usr/local/lib/python3.10/dist-packages (from gradio-client==0.11.0->gradio) (11.0.3)\n",
            "Requirement already satisfied: entrypoints in /usr/local/lib/python3.10/dist-packages (from altair<6.0,>=4.2.0->gradio) (0.4)\n",
            "Requirement already satisfied: jsonschema>=3.0 in /usr/local/lib/python3.10/dist-packages (from altair<6.0,>=4.2.0->gradio) (4.19.2)\n",
            "Requirement already satisfied: toolz in /usr/local/lib/python3.10/dist-packages (from altair<6.0,>=4.2.0->gradio) (0.12.1)\n",
            "Requirement already satisfied: anyio in /usr/local/lib/python3.10/dist-packages (from httpx>=0.24.1->gradio) (3.7.1)\n",
            "Requirement already satisfied: certifi in /usr/local/lib/python3.10/dist-packages (from httpx>=0.24.1->gradio) (2024.2.2)\n",
            "Requirement already satisfied: httpcore==1.* in /usr/local/lib/python3.10/dist-packages (from httpx>=0.24.1->gradio) (1.0.4)\n",
            "Requirement already satisfied: idna in /usr/local/lib/python3.10/dist-packages (from httpx>=0.24.1->gradio) (3.6)\n",
            "Requirement already satisfied: sniffio in /usr/local/lib/python3.10/dist-packages (from httpx>=0.24.1->gradio) (1.3.1)\n",
            "Requirement already satisfied: h11<0.15,>=0.13 in /usr/local/lib/python3.10/dist-packages (from httpcore==1.*->httpx>=0.24.1->gradio) (0.14.0)\n",
            "Requirement already satisfied: filelock in /usr/local/lib/python3.10/dist-packages (from huggingface-hub>=0.19.3->gradio) (3.13.1)\n",
            "Requirement already satisfied: requests in /usr/local/lib/python3.10/dist-packages (from huggingface-hub>=0.19.3->gradio) (2.31.0)\n",
            "Requirement already satisfied: tqdm>=4.42.1 in /usr/local/lib/python3.10/dist-packages (from huggingface-hub>=0.19.3->gradio) (4.66.2)\n",
            "Requirement already satisfied: contourpy>=1.0.1 in /usr/local/lib/python3.10/dist-packages (from matplotlib~=3.0->gradio) (1.2.0)\n",
            "Requirement already satisfied: cycler>=0.10 in /usr/local/lib/python3.10/dist-packages (from matplotlib~=3.0->gradio) (0.12.1)\n",
            "Requirement already satisfied: fonttools>=4.22.0 in /usr/local/lib/python3.10/dist-packages (from matplotlib~=3.0->gradio) (4.49.0)\n",
            "Requirement already satisfied: kiwisolver>=1.0.1 in /usr/local/lib/python3.10/dist-packages (from matplotlib~=3.0->gradio) (1.4.5)\n",
            "Requirement already satisfied: pyparsing>=2.3.1 in /usr/local/lib/python3.10/dist-packages (from matplotlib~=3.0->gradio) (3.1.1)\n",
            "Requirement already satisfied: python-dateutil>=2.7 in /usr/local/lib/python3.10/dist-packages (from matplotlib~=3.0->gradio) (2.8.2)\n",
            "Requirement already satisfied: pytz>=2020.1 in /usr/local/lib/python3.10/dist-packages (from pandas<3.0,>=1.0->gradio) (2023.4)\n",
            "Requirement already satisfied: annotated-types>=0.4.0 in /usr/local/lib/python3.10/dist-packages (from pydantic>=2.0->gradio) (0.6.0)\n",
            "Requirement already satisfied: pydantic-core==2.16.3 in /usr/local/lib/python3.10/dist-packages (from pydantic>=2.0->gradio) (2.16.3)\n",
            "Requirement already satisfied: click<9.0.0,>=7.1.1 in /usr/local/lib/python3.10/dist-packages (from typer[all]<1.0,>=0.9->gradio) (8.1.7)\n",
            "Requirement already satisfied: colorama<0.5.0,>=0.4.3 in /usr/local/lib/python3.10/dist-packages (from typer[all]<1.0,>=0.9->gradio) (0.4.6)\n",
            "Requirement already satisfied: shellingham<2.0.0,>=1.3.0 in /usr/local/lib/python3.10/dist-packages (from typer[all]<1.0,>=0.9->gradio) (1.5.4)\n",
            "Requirement already satisfied: rich<14.0.0,>=10.11.0 in /usr/local/lib/python3.10/dist-packages (from typer[all]<1.0,>=0.9->gradio) (13.7.1)\n",
            "Requirement already satisfied: starlette<0.37.0,>=0.36.3 in /usr/local/lib/python3.10/dist-packages (from fastapi->gradio) (0.36.3)\n",
            "Requirement already satisfied: attrs>=22.2.0 in /usr/local/lib/python3.10/dist-packages (from jsonschema>=3.0->altair<6.0,>=4.2.0->gradio) (23.2.0)\n",
            "Requirement already satisfied: jsonschema-specifications>=2023.03.6 in /usr/local/lib/python3.10/dist-packages (from jsonschema>=3.0->altair<6.0,>=4.2.0->gradio) (2023.12.1)\n",
            "Requirement already satisfied: referencing>=0.28.4 in /usr/local/lib/python3.10/dist-packages (from jsonschema>=3.0->altair<6.0,>=4.2.0->gradio) (0.33.0)\n",
            "Requirement already satisfied: rpds-py>=0.7.1 in /usr/local/lib/python3.10/dist-packages (from jsonschema>=3.0->altair<6.0,>=4.2.0->gradio) (0.18.0)\n",
            "Requirement already satisfied: six>=1.5 in /usr/local/lib/python3.10/dist-packages (from python-dateutil>=2.7->matplotlib~=3.0->gradio) (1.16.0)\n",
            "Requirement already satisfied: markdown-it-py>=2.2.0 in /usr/local/lib/python3.10/dist-packages (from rich<14.0.0,>=10.11.0->typer[all]<1.0,>=0.9->gradio) (3.0.0)\n",
            "Requirement already satisfied: pygments<3.0.0,>=2.13.0 in /usr/local/lib/python3.10/dist-packages (from rich<14.0.0,>=10.11.0->typer[all]<1.0,>=0.9->gradio) (2.16.1)\n",
            "Requirement already satisfied: exceptiongroup in /usr/local/lib/python3.10/dist-packages (from anyio->httpx>=0.24.1->gradio) (1.2.0)\n",
            "Requirement already satisfied: charset-normalizer<4,>=2 in /usr/local/lib/python3.10/dist-packages (from requests->huggingface-hub>=0.19.3->gradio) (3.3.2)\n",
            "Requirement already satisfied: urllib3<3,>=1.21.1 in /usr/local/lib/python3.10/dist-packages (from requests->huggingface-hub>=0.19.3->gradio) (2.0.7)\n",
            "Requirement already satisfied: mdurl~=0.1 in /usr/local/lib/python3.10/dist-packages (from markdown-it-py>=2.2.0->rich<14.0.0,>=10.11.0->typer[all]<1.0,>=0.9->gradio) (0.1.2)\n"
          ]
        }
      ]
    },
    {
      "cell_type": "markdown",
      "source": [
        "text-speech 的互動式介面"
      ],
      "metadata": {
        "id": "SoIl6qqLuIIc"
      }
    },
    {
      "cell_type": "code",
      "source": [
        "import gradio as gr\n",
        "from gtts import gTTS\n",
        "from IPython.display import Audio\n",
        "import os\n",
        "\n",
        "def text_to_speech(text):\n",
        "    language = \"zh-Tw\"\n",
        "    gtts_object = gTTS(text=text, lang=language, slow=False)\n",
        "    gtts_object.save(\"/content/gtts3.wav\")  # 保存音频文件\n",
        "    return \"/content/gtts3.wav\"  # 返回音频文件的路径\n",
        "\n",
        "examples = [\n",
        "    [\"你好我是許家瑋\"],\n",
        "    [\"您好，我是机器人助手。\"]\n",
        "]\n",
        "\n",
        "iface = gr.Interface(\n",
        "    fn=text_to_speech,\n",
        "    inputs=\"text\",\n",
        "    outputs=\"audio\",\n",
        "    title=\"text-speech\",\n",
        "    description=\"Enter your question in Chinese.\",\n",
        "    examples=examples\n",
        ")\n",
        "iface.launch()"
      ],
      "metadata": {
        "colab": {
          "base_uri": "https://localhost:8080/",
          "height": 630
        },
        "id": "jj3JdWr4ayOg",
        "outputId": "ac465e25-bd12-4618-edd6-d29ac9ad9599"
      },
      "execution_count": 53,
      "outputs": [
        {
          "output_type": "stream",
          "name": "stdout",
          "text": [
            "Setting queue=True in a Colab notebook requires sharing enabled. Setting `share=True` (you can turn this off by setting `share=False` in `launch()` explicitly).\n",
            "\n",
            "Colab notebook detected. To show errors in colab notebook, set debug=True in launch()\n",
            "Running on public URL: https://9d78e7090061711960.gradio.live\n",
            "\n",
            "This share link expires in 72 hours. For free permanent hosting and GPU upgrades, run `gradio deploy` from Terminal to deploy to Spaces (https://huggingface.co/spaces)\n"
          ]
        },
        {
          "output_type": "display_data",
          "data": {
            "text/plain": [
              "<IPython.core.display.HTML object>"
            ],
            "text/html": [
              "<div><iframe src=\"https://9d78e7090061711960.gradio.live\" width=\"100%\" height=\"500\" allow=\"autoplay; camera; microphone; clipboard-read; clipboard-write;\" frameborder=\"0\" allowfullscreen></iframe></div>"
            ]
          },
          "metadata": {}
        },
        {
          "output_type": "execute_result",
          "data": {
            "text/plain": []
          },
          "metadata": {},
          "execution_count": 53
        }
      ]
    },
    {
      "cell_type": "code",
      "source": [
        "text_to_speech(\"早安\")"
      ],
      "metadata": {
        "colab": {
          "base_uri": "https://localhost:8080/",
          "height": 93
        },
        "id": "GcuRSJkSoArI",
        "outputId": "56a16b71-f9bc-4488-cc47-0cb0f336d068"
      },
      "execution_count": null,
      "outputs": [
        {
          "output_type": "stream",
          "name": "stderr",
          "text": [
            "WARNING:gtts.lang:'zh-Tw' has been deprecated, falling back to 'zh-TW'. This fallback will be removed in a future version.\n"
          ]
        },
        {
          "output_type": "execute_result",
          "data": {
            "text/plain": [
              "<IPython.lib.display.Audio object>"
            ],
            "text/html": [
              "\n",
              "                <audio  controls=\"controls\" >\n",
              "                    <source src=\"data:audio/x-wav;base64,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\" type=\"audio/x-wav\" />\n",
              "                    Your browser does not support the audio element.\n",
              "                </audio>\n",
              "              "
            ]
          },
          "metadata": {},
          "execution_count": 41
        }
      ]
    },
    {
      "cell_type": "code",
      "source": [
        "import gradio as gr\n",
        "from gtts import gTTS\n",
        "from IPython.display import Audio\n",
        "import os\n",
        "\n",
        "def text_to_speech(text):\n",
        "    language = \"ko\"\n",
        "    gtts_object = gTTS(text=text, lang=language, slow=False)\n",
        "    gtts_object.save(\"/content/gtts4.wav\")  # 保存音频文件\n",
        "    return \"/content/gtts4.wav\"  # 返回音频文件的路径\n",
        "\n",
        "examples = [\n",
        "    [\"안녕하세요\"],\n",
        "    [\"고마워요\"]\n",
        "]\n",
        "\n",
        "iface = gr.Interface(\n",
        "    fn=text_to_speech,\n",
        "    inputs=\"text\",\n",
        "    outputs=\"audio\",\n",
        "    title=\"text-speech\",\n",
        "    description=\"Enter your question in korean.\",\n",
        "    examples=examples\n",
        ")\n",
        "iface.launch()"
      ],
      "metadata": {
        "colab": {
          "base_uri": "https://localhost:8080/",
          "height": 630
        },
        "id": "3gJWI2u7s3qW",
        "outputId": "d20c9576-8f1a-457b-8387-2686e381b201"
      },
      "execution_count": 54,
      "outputs": [
        {
          "output_type": "stream",
          "name": "stdout",
          "text": [
            "Setting queue=True in a Colab notebook requires sharing enabled. Setting `share=True` (you can turn this off by setting `share=False` in `launch()` explicitly).\n",
            "\n",
            "Colab notebook detected. To show errors in colab notebook, set debug=True in launch()\n",
            "Running on public URL: https://5dcc01c97e3503a09c.gradio.live\n",
            "\n",
            "This share link expires in 72 hours. For free permanent hosting and GPU upgrades, run `gradio deploy` from Terminal to deploy to Spaces (https://huggingface.co/spaces)\n"
          ]
        },
        {
          "output_type": "display_data",
          "data": {
            "text/plain": [
              "<IPython.core.display.HTML object>"
            ],
            "text/html": [
              "<div><iframe src=\"https://5dcc01c97e3503a09c.gradio.live\" width=\"100%\" height=\"500\" allow=\"autoplay; camera; microphone; clipboard-read; clipboard-write;\" frameborder=\"0\" allowfullscreen></iframe></div>"
            ]
          },
          "metadata": {}
        },
        {
          "output_type": "execute_result",
          "data": {
            "text/plain": []
          },
          "metadata": {},
          "execution_count": 54
        }
      ]
    },
    {
      "cell_type": "code",
      "source": [
        "import gradio as gr\n",
        "from gtts import gTTS\n",
        "from IPython.display import Audio, display\n",
        "\n",
        "def text_to_speech(text):\n",
        "    language = \"zh-Tw\"\n",
        "    gtts_object = gTTS(text=text, lang=language, slow=False)\n",
        "    gtts_object.save(\"gtts3.wav\")\n",
        "    return \"gtts3.wav\"\n",
        "\n",
        "def play_audio(file_path):\n",
        "    display(Audio(file_path, autoplay=True))\n",
        "\n",
        "iface = gr.Interface(\n",
        "    fn=text_to_speech,\n",
        "    inputs=\"text\",\n",
        "    outputs=play_audio,\n",
        "    title=\"text-speech\",\n",
        "    description=\"Enter your question in Chinese.\"\n",
        ")\n",
        "iface.launch()"
      ],
      "metadata": {
        "colab": {
          "base_uri": "https://localhost:8080/",
          "height": 367
        },
        "id": "ftxSJpKqj4zY",
        "outputId": "fe8760c1-b173-4fc9-d766-c330549ebf14"
      },
      "execution_count": null,
      "outputs": [
        {
          "output_type": "error",
          "ename": "TypeError",
          "evalue": "outputs must be a string, list, or Component, not <function play_audio at 0x7c2fb3748790>",
          "traceback": [
            "\u001b[0;31m---------------------------------------------------------------------------\u001b[0m",
            "\u001b[0;31mTypeError\u001b[0m                                 Traceback (most recent call last)",
            "\u001b[0;32m<ipython-input-39-1b4cfd36c220>\u001b[0m in \u001b[0;36m<cell line: 14>\u001b[0;34m()\u001b[0m\n\u001b[1;32m     12\u001b[0m     \u001b[0mdisplay\u001b[0m\u001b[0;34m(\u001b[0m\u001b[0mAudio\u001b[0m\u001b[0;34m(\u001b[0m\u001b[0mfile_path\u001b[0m\u001b[0;34m,\u001b[0m \u001b[0mautoplay\u001b[0m\u001b[0;34m=\u001b[0m\u001b[0;32mTrue\u001b[0m\u001b[0;34m)\u001b[0m\u001b[0;34m)\u001b[0m\u001b[0;34m\u001b[0m\u001b[0;34m\u001b[0m\u001b[0m\n\u001b[1;32m     13\u001b[0m \u001b[0;34m\u001b[0m\u001b[0m\n\u001b[0;32m---> 14\u001b[0;31m iface = gr.Interface(\n\u001b[0m\u001b[1;32m     15\u001b[0m     \u001b[0mfn\u001b[0m\u001b[0;34m=\u001b[0m\u001b[0mtext_to_speech\u001b[0m\u001b[0;34m,\u001b[0m\u001b[0;34m\u001b[0m\u001b[0;34m\u001b[0m\u001b[0m\n\u001b[1;32m     16\u001b[0m     \u001b[0minputs\u001b[0m\u001b[0;34m=\u001b[0m\u001b[0;34m\"text\"\u001b[0m\u001b[0;34m,\u001b[0m\u001b[0;34m\u001b[0m\u001b[0;34m\u001b[0m\u001b[0m\n",
            "\u001b[0;32m/usr/local/lib/python3.10/dist-packages/gradio/interface.py\u001b[0m in \u001b[0;36m__init__\u001b[0;34m(self, fn, inputs, outputs, examples, cache_examples, examples_per_page, live, title, description, article, thumbnail, theme, css, allow_flagging, flagging_options, flagging_dir, flagging_callback, analytics_enabled, batch, max_batch_size, api_name, _api_mode, allow_duplication, concurrency_limit, js, head, additional_inputs, additional_inputs_accordion, submit_btn, stop_btn, clear_btn, delete_cache, **kwargs)\u001b[0m\n\u001b[1;32m    188\u001b[0m             )\n\u001b[1;32m    189\u001b[0m         \u001b[0;32mif\u001b[0m \u001b[0;32mnot\u001b[0m \u001b[0misinstance\u001b[0m\u001b[0;34m(\u001b[0m\u001b[0moutputs\u001b[0m\u001b[0;34m,\u001b[0m \u001b[0;34m(\u001b[0m\u001b[0mstr\u001b[0m\u001b[0;34m,\u001b[0m \u001b[0mlist\u001b[0m\u001b[0;34m,\u001b[0m \u001b[0mComponent\u001b[0m\u001b[0;34m)\u001b[0m\u001b[0;34m)\u001b[0m\u001b[0;34m:\u001b[0m\u001b[0;34m\u001b[0m\u001b[0;34m\u001b[0m\u001b[0m\n\u001b[0;32m--> 190\u001b[0;31m             raise TypeError(\n\u001b[0m\u001b[1;32m    191\u001b[0m                 \u001b[0;34mf\"outputs must be a string, list, or Component, not {outputs}\"\u001b[0m\u001b[0;34m\u001b[0m\u001b[0;34m\u001b[0m\u001b[0m\n\u001b[1;32m    192\u001b[0m             )\n",
            "\u001b[0;31mTypeError\u001b[0m: outputs must be a string, list, or Component, not <function play_audio at 0x7c2fb3748790>"
          ]
        }
      ]
    },
    {
      "cell_type": "code",
      "source": [],
      "metadata": {
        "id": "kn_0G8xpj5Ow"
      },
      "execution_count": null,
      "outputs": []
    }
  ]
}