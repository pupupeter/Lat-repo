{
 "cells": [
  {
   "cell_type": "code",
   "execution_count": 5,
   "id": "746fbd26",
   "metadata": {},
   "outputs": [],
   "source": [
    "import openai\n",
    "import pandas as pd\n",
    "with open('556.txt', 'r',encoding=\"utf-8\") as fh:\n",
    "    tmp = fh.read()\n",
    "    itemlist1 = tmp.split(',')\n",
    "    \n",
    "with open('557.txt', 'r',encoding=\"utf-8\") as fh:\n",
    "    tmp = fh.read()\n",
    "    itemlist2 = tmp.split(',')\n",
    "    \n",
    "with open('558.txt', 'r',encoding=\"utf-8\") as fh:\n",
    "    tmp = fh.read()\n",
    "    itemlist3 = tmp.split(',')\n",
    "    \n",
    "with open('559.txt', 'r',encoding=\"utf-8\") as fh:\n",
    "    tmp = fh.read()\n",
    "    itemlist4 = tmp.split(',')\n",
    "    \n",
    "with open('560.txt', 'r',encoding=\"utf-8\") as fh:\n",
    "    tmp = fh.read()\n",
    "    itemlist5 = tmp.split(',')\n",
    "with open('561.txt', 'r',encoding=\"utf-8\") as fh:\n",
    "    tmp = fh.read()\n",
    "    itemlist6 = tmp.split(',')\n",
    "    \n",
    "itemlist1 = str(itemlist1)\n",
    "itemlist2 = str(itemlist2)\n",
    "itemlist3 = str(itemlist3)\n",
    "itemlist4 = str(itemlist4)\n",
    "itemlist5 = str(itemlist5)\n",
    "itemlist6 = str(itemlist6)"
   ]
  },
  {
   "cell_type": "code",
   "execution_count": null,
   "id": "871850e5",
   "metadata": {},
   "outputs": [],
   "source": []
  },
  {
   "cell_type": "code",
   "execution_count": 7,
   "id": "b512d756",
   "metadata": {},
   "outputs": [
    {
     "ename": "FileNotFoundError",
     "evalue": "[Errno 2] No such file or directory: 'python api.txt'",
     "output_type": "error",
     "traceback": [
      "\u001b[1;31m---------------------------------------------------------------------------\u001b[0m",
      "\u001b[1;31mFileNotFoundError\u001b[0m                         Traceback (most recent call last)",
      "\u001b[1;32m~\\AppData\\Local\\Temp\\ipykernel_3836\\2534474907.py\u001b[0m in \u001b[0;36m<module>\u001b[1;34m\u001b[0m\n\u001b[1;32m----> 1\u001b[1;33m \u001b[0mkeyfile\u001b[0m \u001b[1;33m=\u001b[0m \u001b[0mopen\u001b[0m\u001b[1;33m(\u001b[0m\u001b[1;34m\"python api.txt\"\u001b[0m\u001b[1;33m,\u001b[0m \u001b[1;34m\"r\"\u001b[0m\u001b[1;33m)\u001b[0m\u001b[1;33m\u001b[0m\u001b[1;33m\u001b[0m\u001b[0m\n\u001b[0m\u001b[0;32m      2\u001b[0m \u001b[0mkey\u001b[0m \u001b[1;33m=\u001b[0m \u001b[0mkeyfile\u001b[0m\u001b[1;33m.\u001b[0m\u001b[0mreadline\u001b[0m\u001b[1;33m(\u001b[0m\u001b[1;33m)\u001b[0m\u001b[1;33m\u001b[0m\u001b[1;33m\u001b[0m\u001b[0m\n\u001b[0;32m      3\u001b[0m \u001b[0mopenai\u001b[0m\u001b[1;33m.\u001b[0m\u001b[0mapi_key\u001b[0m \u001b[1;33m=\u001b[0m \u001b[0mkey\u001b[0m\u001b[1;33m\u001b[0m\u001b[1;33m\u001b[0m\u001b[0m\n\u001b[0;32m      4\u001b[0m data = [itemlist1[0:3200], itemlist1[3201:6400], \n\u001b[0;32m      5\u001b[0m         itemlist1[6401:9600], itemlist1[9601:12800] ]\n",
      "\u001b[1;31mFileNotFoundError\u001b[0m: [Errno 2] No such file or directory: 'python api.txt'"
     ]
    }
   ],
   "source": [
    "\n",
    "keyfile = open(\"python api.txt\", \"r\")\n",
    "key = keyfile.readline()\n",
    "openai.api_key = key\n",
    "data = [itemlist1[0:3200], itemlist1[3201:6400], \n",
    "        itemlist1[6401:9600], itemlist1[9601:12800] ]\n",
    "data1 = [itemlist2[0:3200], itemlist2[3201:6400], \n",
    "        itemlist2[6401:9600], itemlist2[9601:12800]]\n",
    "data2 = [itemlist3[0:3200], itemlist3[3201:6400], \n",
    "        itemlist3[6401:9600], itemlist3[9601:12800]]\n",
    "data3 = [itemlist4[0:3200], itemlist4[3201:6400], \n",
    "        itemlist4[6401:9600], itemlist4[9601:12800]]\n",
    "data4 = [itemlist5[0:3200], itemlist5[3201:6400], \n",
    "        itemlist5[6401:9600], itemlist5[9601:12800]]\n",
    "data5 = [itemlist6[0:3200], itemlist6[3201:6400], \n",
    "        itemlist6[6401:9600], itemlist6[9601:12800]]"
   ]
  },
  {
   "cell_type": "code",
   "execution_count": 8,
   "id": "18615436",
   "metadata": {},
   "outputs": [],
   "source": [
    "def chatgptfn(sub_list):\n",
    "    result = ''\n",
    "    response = openai.ChatCompletion.create(\n",
    "        model=\"gpt-3.5-turbo\",\n",
    "        messages=[\n",
    "            {\"role\": \"system\", \"content\": \"You are an assistant\"},\n",
    "            {\"role\": \"user\", \"content\": f\"{sub_list} :give me a summary\"}\n",
    "        ]\n",
    "    )\n",
    "    for choice in response.choices:\n",
    "        result += choice.message.content\n",
    "    return result"
   ]
  },
  {
   "cell_type": "code",
   "execution_count": null,
   "id": "cd649fad",
   "metadata": {},
   "outputs": [],
   "source": []
  },
  {
   "cell_type": "code",
   "execution_count": 9,
   "id": "3df091f0",
   "metadata": {},
   "outputs": [
    {
     "ename": "NameError",
     "evalue": "name 'data' is not defined",
     "output_type": "error",
     "traceback": [
      "\u001b[1;31m---------------------------------------------------------------------------\u001b[0m",
      "\u001b[1;31mNameError\u001b[0m                                 Traceback (most recent call last)",
      "\u001b[1;32m~\\AppData\\Local\\Temp\\ipykernel_3836\\3294877852.py\u001b[0m in \u001b[0;36m<module>\u001b[1;34m\u001b[0m\n\u001b[1;32m----> 1\u001b[1;33m \u001b[0mdata\u001b[0m\u001b[1;33m[\u001b[0m\u001b[1;36m0\u001b[0m\u001b[1;33m]\u001b[0m \u001b[1;33m=\u001b[0m \u001b[0mchatgptfn\u001b[0m\u001b[1;33m(\u001b[0m\u001b[0mdata\u001b[0m\u001b[1;33m[\u001b[0m\u001b[1;36m0\u001b[0m\u001b[1;33m]\u001b[0m\u001b[1;33m)\u001b[0m\u001b[1;33m\u001b[0m\u001b[1;33m\u001b[0m\u001b[0m\n\u001b[0m\u001b[0;32m      2\u001b[0m \u001b[0mdata\u001b[0m\u001b[1;33m[\u001b[0m\u001b[1;36m0\u001b[0m\u001b[1;33m]\u001b[0m\u001b[1;33m\u001b[0m\u001b[1;33m\u001b[0m\u001b[0m\n",
      "\u001b[1;31mNameError\u001b[0m: name 'data' is not defined"
     ]
    }
   ],
   "source": [
    "data[0] = chatgptfn(data[0])\n",
    "data[0]"
   ]
  },
  {
   "cell_type": "code",
   "execution_count": 10,
   "id": "0d49f547",
   "metadata": {},
   "outputs": [],
   "source": [
    "data=''\n",
    "for i in range(0,5):\n",
    "    if data:\n",
    "        data = data + data[-1]\n",
    "    else:\n",
    "        data = data + itemlist1[0:3200]"
   ]
  },
  {
   "cell_type": "code",
   "execution_count": 11,
   "id": "4283a75b",
   "metadata": {},
   "outputs": [
    {
     "data": {
      "text/plain": [
       "\"['The Politics of “Deep-Rooted Evil”\\\\nWhen those in power begin demonizing the opposition', ' it is a sign that \\\\nthings may be going wrong for democracy. The most prominent exam\\\\x02ple offered by the Moon administration is its campaign of “eradicating \\\\ndeep-rooted evils”4\\\\n from Korean society and politics. Moon’s transition \\\\nteam proudly proclaimed this as his top agenda item. In practice', ' this \\\\nhas meant two things. The first has been a string of agency investiga\\\\x02tions and personnel purges affecting the Foreign Ministry and National \\\\n102 Journal of Democracy\\\\nIntelligence Service as well as other departments. The second has been a \\\\nnumber of politically selective cases lodged against former high-ranking \\\\nofficials by the Supreme Prosecutors’ Office in Seoul under Prosecu\\\\x02tor General Yoon Seok Youl.5\\\\n Among \\\\nthose whom Yoon has charged have \\\\nbeen not only a former Supreme Court \\\\nchief justice', ' but also ex-president Lee \\\\nMyung Bak (2008–13).\\\\nThe government behavior that Ko\\\\x02reans are witnessing is that of a new \\\\nelite proud of having come to power \\\\nas the result of a popular movement \\\\nand also—one must add—more than a \\\\nlittle drunk on its own sense of moral \\\\nsuperiority. The new governing class \\\\nthat came in with President Moon has \\\\ntriumphantly proclaimed a mission \\\\nof “eradicating deep-rooted evil perpetrated by those in authority” and \\\\nchanging the mainstream of Korean society.6\\\\n There is nothing novel in \\\\nKorean politics about a new administration seeking to set itself apart \\\\nfrom its predecessor', ' or going after lingering corruption. Justifying such \\\\nactions with dualistic logic—aggressively attacking the other side as a \\\\n“great evil” and “reactionary', '” for instance—has been less typical since \\\\ndemocratization in 1987', ' however.7\\\\n In Korea as elsewhere', ' it is rhetoric \\\\nthat opens the door to attacks on democratic norms. \\\\nThe bureaucratic purges have seen officials who were in charge of \\\\ncarrying out policy—not policy makers—grilled as if they had more \\\\ncontrol than they did', ' and punished excessively. Special investigations \\\\nhave scrutinized the Foreign Ministry regarding the 2015 agreement \\\\nwith Japan on Second World War–era “comfort women”; the Unifica\\\\x02tion Ministry regarding the 2016 decision to close the Kaesong Industrial \\\\nRegion after a North Korean rocket launch; and the Education Ministry \\\\nregarding the 2015 decision to reinstate government-published middle\\\\x02and high-school history texts. The investigations led to the punishment \\\\nof numerous officials (both executives and working-level staffers) who \\\\nwere involved in policy implementation. In the schoolbook matter', ' the \\\\nEducation Ministry special investigation committee asked prosecutors \\\\nto investigate seventeen individuals', ' and ordered disciplinary punish\\\\x02ments for six working-level officials.8\\\\nPolicy review is a common practice for any new administration', ' but \\\\nideologically driven investigative efforts like the Moon government’s \\\\nare rare in liberal democracies. By the end of 2017', ' a total of 39 special \\\\ntask forces and committees—staffed largely by progovernment experts \\\\noften drawn frrrrr\""
      ]
     },
     "execution_count": 11,
     "metadata": {},
     "output_type": "execute_result"
    }
   ],
   "source": [
    "data"
   ]
  },
  {
   "cell_type": "code",
   "execution_count": 12,
   "id": "dfcdd2e1",
   "metadata": {},
   "outputs": [],
   "source": [
    "data1=''\n",
    "for i in range(0,5):\n",
    "    if data1:\n",
    "        data1 = data1 + data1[-1]\n",
    "    else:\n",
    "        data1 = data1 + itemlist2[0:3200]"
   ]
  },
  {
   "cell_type": "code",
   "execution_count": 13,
   "id": "5e947346",
   "metadata": {},
   "outputs": [
    {
     "data": {
      "text/plain": [
       "\"['Interfering with the Courts\\\\nSeparation of powers is a fundamental of liberal democracy', ' and the \\\\ncourts are the last line of defense for the rule of law. From the outset', ' the \\\\nMoon government has abused its administrative powers in order to un\\\\x02dermine this basic principle and politicize the courts. A judge who had \\\\nbeen the head of a left-wing lawyers’ group was named secretary of le\\\\x02gal affairs in the Office of the President. Another', ' recently retired judge \\\\nwith a similar background later succeeded to this post. These two of\\\\x02ficials have reportedly run the effort to “eradicate deep-rooted evils” in \\\\nthe judiciary', ' culminating in the arrests of several senior judges. These \\\\nincluded former chief justice Yang Sung Tae', ' who in January 2019 was \\\\ndetained on a raft of charges related to the scandals surrounding former \\\\npresident Park.\\\\nThe naming of officers of the court such as prosecutors to high-level \\\\njobs at the Blue House has been a controversial practice in successive \\\\ngovernments. It led to a March 2017 amendment of the Korean Prosecu\\\\x02tors’ Act by the Moon administration that stipulated at least a year of \\\\n104 Journal of Democracy\\\\nretirement before an ex-prosecutor can assume a Blue House post. The \\\\nnaming of former judges went ahead', ' however—pushed by the Moon \\\\nadministration on the grounds that there were no laws forbidding it. Yet \\\\nthis practice was even more troubling', ' since judges outrank prosecutors \\\\nand are supposed to be even more politically independent. While the \\\\nlegal loophole was there (at least until a February 2020 amendment to \\\\nthe Court Organization Act closed it)', ' the Moon government’s deliber\\\\x02ate exploitation of it to blur the lines between the judicial and execu\\\\x02tive branches was an ominous attack on the constitutional principle of a \\\\nseparation of powers.\\\\nSuch acts are not only problematic but also highly dangerous', ' as \\\\nPresident Moon has the time and power to reshape the courts during his \\\\ntenure. Korea', ' like France and Germany', ' has both a Supreme Court and \\\\na Constitutional Court. Justices on these bodies mainly serve renewable \\\\nsix-year terms', ' a circumstance that tends to give presidents (the presi\\\\x02dential term is five years', ' nonrenewable) significant chances to shape \\\\nthe judiciary through appointments. At this time', ' only a little more than \\\\nthree years into his term', ' President Moon has so far named ten justices \\\\n(including the chief justice) of the fourteen-member Supreme Court', ' and \\\\nduring the balance of his term he will have the opportunity to appoint \\\\nsuccessors to three of the four remaining Park-appointed justices. Moon \\\\nhas also named eight of the nine justices on the Constitutional Court', ' six \\\\nof whom are of progressive inclination. \\\\nIt is normal', ' of course', ' for a president to have judicial-appointment \\\\npowers. Less normal but on display in Korea today are jurists who re\\\\x02sign or retire and then immediately plunge into partisan politics. In the \\\\nApril 2020 election', ' three former judges', ' all Democrats', ' ran for and \\\\nwon National Assembly seats', ' in each case while echoing Moon admmmmm\""
      ]
     },
     "execution_count": 13,
     "metadata": {},
     "output_type": "execute_result"
    }
   ],
   "source": [
    "data1"
   ]
  },
  {
   "cell_type": "code",
   "execution_count": 14,
   "id": "d35b9f4f",
   "metadata": {},
   "outputs": [],
   "source": [
    "data2=''\n",
    "for i in range(0,5):\n",
    "    if data2:\n",
    "        data2 = data2 + data2[-1]\n",
    "    else:\n",
    "        data2 = data2 + itemlist3[0:3200]"
   ]
  },
  {
   "cell_type": "code",
   "execution_count": 15,
   "id": "0a453415",
   "metadata": {},
   "outputs": [
    {
     "data": {
      "text/plain": [
       "\"['Changing the Rules of the Game', ' Double Standards\\\\nElection laws are “rules of the game” that are essential to upholding \\\\ndemocracy. If a powerful actor unilaterally changes these rules to its \\\\nown advantage', ' it is hard for others to accept the results that follow. \\\\nA 2012 amendment to the National Assembly Act was meant to pre\\\\x02vent just such unilateral action. The amendment stipulates a 60 percent \\\\nGi-Wook Shin 105\\\\nthreshold for passing any major legislation and takes away the speaker’s \\\\npower', ' as presiding officer', ' to send any bill straight to a floor vote. In \\\\n2019', ' however', ' the Democrats bypassed the main party on the right and \\\\nworked with three smaller parties to enact a new electoral system that \\\\nintroduced a number of seats filled according to mixed-member pro\\\\x02portional (MMP) representation. In response', ' the main opposition party \\\\nfilibustered and even used force. April 2019 saw sit-ins and angry con\\\\x02frontations at the multistory National Assembly Building overlooking \\\\nthe Han’s south bank on Yeoui Island', ' Seoul’s financial district.10 The \\\\nsituation deteriorated to the point where legislators from both the ruling \\\\nand opposition parties wound up facing criminal charges. \\\\nThe National Assembly has 253 seats filled from single-member dis\\\\x02tricts (SMDs)', ' with the remaining 47 seats filled through proportional \\\\nrepresentation (PR) from party lists. Before 2019', ' all the PR seats were \\\\ndistributed based on parties’ respective vote percentages. Changes that \\\\nwere finally passed in December 2019', ' however', ' left only 17 of the PR \\\\nseats to be shared out in the old manner. The other 30 seats are now \\\\ndistributed according to a quasi-MMP formula that had been expected \\\\nto favor small parties', ' which is why the smaller opposition parties had \\\\nbacked the shift in the first place. \\\\nThe stated goal was valid: Give minority parties more of a voice in \\\\nthe national lawmaking body. The manner of passage may have been \\\\nwithin the letter of the rules as well. Yet even so', ' changing the rules \\\\nof the game against the will of the main opposition party violates the \\\\nspirit of liberal', ' constitutional democracy. Powerless to stop the change', ' \\\\nthe main opposition party adapted to it by forming a novel “satellite” \\\\nparty that ran only for PR seats while the parent party ran only for SMD \\\\nseats—all in an effort to maximize the combined number of seats. \\\\nThe Democrats at first attacked the idea of a satellite party as an un\\\\x02derhanded trick. Later', ' however', ' they formed one of their own', ' claiming \\\\nthat “popular militias” were rising up to defend the progressive cause. The \\\\noriginal intent of adding an MMP element to the system slid rapidly into \\\\nirrelevancy as all actors outdid each other in finding ways to circumvent \\\\nthe rules. The April election results showed that these “tricks” worked \\\\nwell: The two major parties together captured 36 of the 47 PR seats', ' leav\\\\x02ing smaller parties out in the cold. It was all done within the letter of the \\\\nlaw', ' but through their actions and reactions both the ruling party and its \\\\nopponents have left democratic normsssss\""
      ]
     },
     "execution_count": 15,
     "metadata": {},
     "output_type": "execute_result"
    }
   ],
   "source": [
    "data2"
   ]
  },
  {
   "cell_type": "code",
   "execution_count": 16,
   "id": "d7b6c3e8",
   "metadata": {},
   "outputs": [],
   "source": [
    "data3=''\n",
    "for i in range(0,5):\n",
    "    if data3:\n",
    "        data3 = data3 + data3[-1]\n",
    "    else:\n",
    "        data3 = data3 + itemlist4[0:3200]"
   ]
  },
  {
   "cell_type": "code",
   "execution_count": 17,
   "id": "a67d171a",
   "metadata": {},
   "outputs": [
    {
     "data": {
      "text/plain": [
       "\"['Politicizing Civil Society', ' Infringing on Free Speech\\\\nCivil society was an active and important player in Korea’s journey \\\\ntoward democracy. In 1960', ' student-led protests forced the Republic of \\\\nKorea’s authoritarian first president', ' Syngman Rhee', ' out of the office. In \\\\n1987', ' street demonstrations pressured the Chun Doo Hwan dictatorship \\\\nto accept the reforms that marked Korea’s transition to democracy. The \\\\n2016–17 candlelight protests likewise used broad civic participation to \\\\ngalvanize Korean politics. Civil society has also provided manpower \\\\nto political society. The so-called 386 generation (a term', ' coined in the \\\\n1990s', ' for activists then in their thirties who were in college in the 1980s \\\\nand were born in the 1960s) hold key posts in the Moon administration. \\\\nAs young people', ' they had spearheaded the democracy movement. Sev\\\\x02eral (Cho Kuk among them) were also key members of a leading civic \\\\norganization called the People’s Solidarity for Participatory Democracy. \\\\nMany other ministers', ' senior presidential secretaries', ' and National As\\\\x02sembly members were also leading student or civic activists. Yester\\\\x02day’s protesters have become today’s props of the power structure.\\\\nThe political prominence of Korean civil society is not altogether a \\\\nheartening sign for democracy. Civil society looms as large as it does \\\\nbecause Korea has an unsteady party system that struggles to produce \\\\npolicies responsive to social demands. Active civic participation in poli\\\\x02tics is encouraging', ' but when institutions such as parties are immature and \\\\ndysfunctional', ' the effect may be to leave society politicized and polarized \\\\n108 Journal of Democracy\\\\nto an unhealthy degree. If the vagaries of a mercurial “street democracy” \\\\ncome to outweigh representative', ' constitutional institutions', ' the omen for \\\\ndemocratic stability is not a good one.\\\\nAdding to the foreboding has been the spectacle offered by the many \\\\nformer democratic activists', ' now ensconced in office', ' who are leading \\\\nthe charge against important democratic rules and norms.14 As the noted \\\\npolitical scientist Jang-Jip Choi has pointed out', ' these new elites are run\\\\x02ning the government as if they were still battling authoritarianism. Instead \\\\nof appreciating democratic standards that promote tolerance and compro\\\\x02mise', ' they seem intent on living in the past and reprising their glory days \\\\nas bold young activists.15 In short', ' they still seem to think they are “fight\\\\x02ing the power” when', ' in fact', ' they are the power. Korea’s politicized civil \\\\nsociety', ' moreover', ' is not moderating them. Rather', ' it lacks moderation \\\\nitself', ' and this lack of forbearance is stunting democracy.\\\\nA sign that the situation is growing serious is the rising trend of in\\\\x02fringing the freedom of speech. In late 2018', ' the Moon government de\\\\x02clared “war on fake news', '” encouraging state agencies to report false or \\\\nmisleading news accounts', ' especially videos on conservative YouTube \\\\nchannels', ' to law enforcement. There was pushback as opposition law\\\\x02makers and conservative intellectuals denounceeeee\""
      ]
     },
     "execution_count": 17,
     "metadata": {},
     "output_type": "execute_result"
    }
   ],
   "source": [
    "data3"
   ]
  },
  {
   "cell_type": "code",
   "execution_count": 18,
   "id": "3f1f6063",
   "metadata": {},
   "outputs": [],
   "source": [
    "data4=''\n",
    "for i in range(0,5):\n",
    "    if data4:\n",
    "        data4 = data4 + data4[-1]\n",
    "    else:\n",
    "        data4 = data4 + itemlist5[0:3200]"
   ]
  },
  {
   "cell_type": "code",
   "execution_count": 19,
   "id": "a9744406",
   "metadata": {},
   "outputs": [
    {
     "data": {
      "text/plain": [
       "\"['Chauvinistic Populism\\\\nThe fusion of political polarization and populism', ' which is drawing \\\\nexplosive popular support', ' is an important feature of the global demo\\\\x02cratic depression. From Donald Trump and “America First” to Boris \\\\nJohnson and Brexit', ' not to mention Duterte and Erdo¢gan plus Brazil’s \\\\nJair Bolsonaro and India’s Narendra Modi', ' leaders are winning through \\\\npopulist appeals that hold the danger of promoting chauvinism and jeop\\\\x02ardizing minorities and immigrants. \\\\nThe chauvinistic populism that has emerged in Korea is akin to what \\\\nwe are witnessing elsewhere. Whereas populism in the United States \\\\nand Europe comes mainly from the right', ' Korean populism appears \\\\nsimilar to Latin American left-wing populism. Moon’s is a government \\\\nof the left', ' but its leftism has not barred it from trafficking in national\\\\x02ist appeals. Moon himself has praised Admiral Yi Sun Shin', ' a national \\\\nhero known for fighting the Japanese more than four centuries ago', ' in \\\\nat least one speech. In 2017', ' the Blue House took a petty swipe at Japan \\\\nby serving prawns caught near the islet group known as Dokdo (and \\\\nlong disputed between Seoul and Tokyo) at a state banquet for President \\\\nTrump.18 Calls to boycott Japanese goods are a recurring story in Korea \\\\n(there was a boycott campaign in mid-2019). \\\\nIt is an old story: Politicians are wrapping themselves in the flag to \\\\ndistract the public from something else. Behind references to Admiral \\\\nYi and other such patriotic mainstays as the Tonghak Peasant Rebellion \\\\nof 1894 and the National Debt Repayment Movement of 1907 is the \\\\nMoon administration’s eagerness to pump up the president’s approval \\\\nrating while avoiding responsibility for ongoing economic difficulties \\\\nand the neglect of bilateral relations with Japan. In 2019', ' the Democratic \\\\nParty’s think tank even put out a report on how Seoul-Tokyo frictions \\\\ncould help the party’s candidates at the polls in 2020. \\\\nIt should hardly need explaining', ' one may hope', ' that inflaming dip\\\\x02lomatic tensions by deploying small seafood in even smaller stunts—\\\\nto say nothing of trying to split Koreans into hostile factions complete \\\\nwith charges of “traitor” being hurled—is no way for the high officials \\\\nof a democratic republic to live up to their duties and responsibilities. \\\\nCheap chauvinistic gambits are unbecoming of those tasked with lead\\\\x02ing a country that belongs to the G20', ' wields serious military power \\\\nin one of the world’s most strategically important regions', ' boasts the \\\\n110 Journal of Democracy\\\\nglobe’s twelfth-largest economy', ' and has been a competitive democracy \\\\nfor decades. \\\\nWhen populism is on the rise', ' political logic and emotional appeals \\\\ntake center stage', ' professionalism and expert opinions are dismissed', ' \\\\nand it becomes hard to have rational debates. For example', ' when the \\\\nadministration said that it would act on a campaign pledge by raising the \\\\nminimum wage (a not untypical populist policy)', ' many economists ad\\\\x02vised that increases be done incrementally since a big chunk of Korean \\\\nemployment comes from self-employed individuals who hirrrrr\""
      ]
     },
     "execution_count": 19,
     "metadata": {},
     "output_type": "execute_result"
    }
   ],
   "source": [
    "data4"
   ]
  },
  {
   "cell_type": "code",
   "execution_count": 20,
   "id": "ac9b341a",
   "metadata": {},
   "outputs": [],
   "source": [
    "data5=''\n",
    "for i in range(0,5):\n",
    "    if data5:\n",
    "        data5 = data5 + data5[-1]\n",
    "    else:\n",
    "        data5 = data5 + itemlist6[0:3200]"
   ]
  },
  {
   "cell_type": "code",
   "execution_count": 21,
   "id": "957ac770",
   "metadata": {},
   "outputs": [
    {
     "data": {
      "text/plain": [
       "\"['Arresting the Slide\\\\nWhile various trends betokening democratic backsliding in Korea \\\\ndate back before the Moon administration', ' it is fair to say that they have \\\\ngained force since President Moon took office. Because the trends have \\\\nmanifested themselves gradually', ' and typically within the ambit of ex\\\\x02isting laws and procedures', ' it has taken some time to see their overall \\\\npattern and recognize where they are driving Korea. No longer can they \\\\nbe written off as mere growing pains of democratization. Together', ' they \\\\nadd up to a disease whose emerging symptoms one may be tempted to \\\\nshrug off', ' but which will take a staggering toll if not understood and \\\\nchecked. Or to shift the metaphor', ' we may say that democratic erosion \\\\nis something that happens gradually', ' then all at once. As in the Korean \\\\nexpression about the light drizzle that soaks you before you even notice \\\\nit', ' the subtle subversion of democratic norms across multiple spheres \\\\ncould one day hit Korea’s young democracy with unbearable costs. \\\\nCan Korea withstand the democratic recession? Can Koreans protect \\\\ntheir democracy', ' forged in bloody struggle and popular sacrifice in the \\\\ncause of stopping authoritarian repression? They must begin', ' first and \\\\nforemost', ' by reflecting deeply on what democracy means', ' and grasp \\\\nthat it depends on norms which go beyond the bare letter of the law. \\\\nAs Steven Levitsky and Daniel Ziblatt argue in their 2018 book How \\\\nDemocracies Die', ' the procedural rule of law itself is insufficient to de\\\\x02fend democracy if the core democratic norms of mutual tolerance and \\\\nforbearance are not respected as well. A country whose people think of \\\\neach other primarily as “allies” or “enemies” cannot remain a democ\\\\x02racy. If ordinary Koreans must be aware of this', ' all the more so must \\\\n112 Journal of Democracy\\\\nthe political leaders currently in power. They should be alarmed that \\\\nthe current administration could go down in history as the main culprit \\\\nin the erosion of Korean democracy. The members of the current ruling \\\\nelite were once fierce opponents of au\\\\x02thoritarian rule. What a tragedy it would \\\\nbe if they of all people were to stand in \\\\nthe way of Korea’s democratic develop\\\\x02ment.\\\\nIn April 2020', ' the Democratic Party \\\\nwon the most decisive electoral victory \\\\nKorea has seen since the democratic era \\\\nbegan in 1987. During a national crisis \\\\ncaused by a novel disease', ' the voters \\\\nchose to end the near-even split in the \\\\nlegislature between the Democrats and \\\\ntheir major rival on the right', ' handing \\\\nthe center-left its first outright major\\\\x02ity since 2004. President Moon’s party and its now-absorbed satellite \\\\ncurrently control 180 seats—exactly the three-fifths majority needed to \\\\nfast-track bills. The president is free to press his agenda', ' foreign and \\\\ndomestic', ' with more confidence and authority', ' and will likely avoid the \\\\nearly lame-duck status that often burdens Korean presidents during their \\\\nsingle five-year terms. \\\\nAt the same time', ' Korean democracy is facing higher risks. The new \\\\nNational Assembly will likely see heightened polarization bbbbb\""
      ]
     },
     "execution_count": 21,
     "metadata": {},
     "output_type": "execute_result"
    }
   ],
   "source": [
    "data5"
   ]
  },
  {
   "cell_type": "code",
   "execution_count": 22,
   "id": "d59c93e8",
   "metadata": {},
   "outputs": [],
   "source": [
    "paper=[data,data1,data2,data3,data4,data5]"
   ]
  },
  {
   "cell_type": "code",
   "execution_count": null,
   "id": "4fc0995b",
   "metadata": {},
   "outputs": [],
   "source": []
  },
  {
   "cell_type": "code",
   "execution_count": null,
   "id": "2bd84b7b",
   "metadata": {},
   "outputs": [],
   "source": []
  },
  {
   "cell_type": "code",
   "execution_count": 23,
   "id": "4f78f8dd",
   "metadata": {},
   "outputs": [],
   "source": [
    "import gensim\n",
    "from gensim import corpora\n",
    "from pprint import pprint\n",
    "\n"
   ]
  },
  {
   "cell_type": "code",
   "execution_count": 24,
   "id": "f828fc27",
   "metadata": {},
   "outputs": [],
   "source": [
    "# 創建詞袋\n",
    "texts = [[word for word in document.lower().split()] for document in paper]\n",
    "dictionary = corpora.Dictionary(texts)\n",
    "dictionary.filter_extremes(no_below=1, no_above=0.2)######<---\n",
    "corpus = [dictionary.doc2bow(text) for text in texts]"
   ]
  },
  {
   "cell_type": "code",
   "execution_count": 25,
   "id": "526957b1",
   "metadata": {},
   "outputs": [],
   "source": [
    "\n",
    "# 訓練 LDA 模型\n",
    "lda_model = gensim.models.ldamodel.LdaModel(corpus=corpus, id2word=dictionary, \n",
    "                                            num_topics=3, random_state=100, update_every=1, \n",
    "                                            chunksize=100, passes=10, alpha='auto', per_word_topics=True)"
   ]
  },
  {
   "cell_type": "code",
   "execution_count": 26,
   "id": "63dfb2b5",
   "metadata": {},
   "outputs": [
    {
     "name": "stderr",
     "output_type": "stream",
     "text": [
      "C:\\Users\\peter\\AppData\\Roaming\\Python\\Python39\\site-packages\\pyLDAvis\\_prepare.py:243: FutureWarning: In a future version of pandas all arguments of DataFrame.drop except for the argument 'labels' will be keyword-only.\n",
      "  default_term_info = default_term_info.sort_values(\n"
     ]
    },
    {
     "data": {
      "text/html": [
       "\n",
       "<link rel=\"stylesheet\" type=\"text/css\" href=\"https://cdn.jsdelivr.net/gh/bmabey/pyLDAvis@3.4.0/pyLDAvis/js/ldavis.v1.0.0.css\">\n",
       "\n",
       "\n",
       "<div id=\"ldavis_el383626455810312321740838660\" style=\"background-color:white;\"></div>\n",
       "<script type=\"text/javascript\">\n",
       "\n",
       "var ldavis_el383626455810312321740838660_data = {\"mdsDat\": {\"x\": [-0.09487155175067674, 0.09346265820714064, 0.001408893543536095], \"y\": [-0.03314532096450913, -0.034667199908058464, 0.06781252087256762], \"topics\": [1, 2, 3], \"cluster\": [1, 1, 1], \"Freq\": [50.45934099732289, 33.98482968526724, 15.555829317409867]}, \"tinfo\": {\"Term\": [\"ministry\", \"civil\", \"named\", \"justices\", \"civic\", \"\\\\npresident\", \"term\", \"powers\", \"judges\", \"court',\", \"chief\", \"judge\", \"2020\", \"principle\", \"post.\", \"seats\", \"special\", \"leading\", \"last\", \"ominous\", \"it.\", \"jurists\", \"five\", \"defense\", \"justice\", \"re\\\\x02sign\", \"controversial\", \"grounds\", \"retired\", \"of\\\\x02ficials\", \"seats\", \"pr\", \"populism\", \"however',\", \"filled\", \"norms\", \"\\\\ndistributed\", \"number\", \"47\", \"according\", \"changes\", \"results\", \"admiral\", \"chauvinistic\", \"left\", \"appeals\", \"see\", \"known\", \"likely\", \"people\", \"trends\", \"gradually',\", \"comes\", \"go\", \"you\", \"boycott\", \"japanese\", \"erosion\", \"whose\", \"current\", \"ministry\", \"civil\", \"civic\", \"special\", \"leading\", \"second\", \"\\u201ceradicating\", \"going\", \"2015\", \"purges\", \"proclaimed\", \"politics\", \"after\", \"regarding\", \"working-level\", \"investigations\", \"yoon\", \"policy\", \"decision\", \"politicized\", \"conservative\", \"participation\", \"still\", \"active\", \"key\", \"protests\", \"seem\", \"typical\", \"numerous\", \"disciplinary\", \"agreement\", \"named\", \"justices\", \"\\\\npresident\", \"term\", \"court',\", \"powers\", \"judges\", \"judge\", \"chief\", \"2020\", \"principle\", \"post.\", \"last\", \"ominous\", \"it.\", \"jurists\", \"five\", \"defense\", \"justice\", \"retired\", \"re\\\\x02sign\", \"basic\", \"stipulated\", \"controversial\", \"grounds\", \"democracy\\\\nretirement\", \"\\u201ceradicate\", \"of\\\\x02ficials\", \"bodies\", \"['interfering\", \"\\\\nthis\", \"year\", \"\\\\npowers.\"], \"Freq\": [3.0, 3.0, 1.0, 1.0, 2.0, 1.0, 1.0, 1.0, 1.0, 1.0, 1.0, 1.0, 1.0, 1.0, 1.0, 4.0, 2.0, 2.0, 0.0, 0.0, 0.0, 0.0, 0.0, 0.0, 0.0, 0.0, 0.0, 0.0, 0.0, 0.0, 3.9204609026748805, 2.6827154433346645, 2.6799825378045896, 2.064339724099926, 2.064179800019294, 2.0595251980638, 1.4453831212027477, 1.4451768423161355, 1.4448816201455486, 1.4449049424073075, 1.4445242535631944, 1.444223671618166, 1.4444008338922718, 1.4442963907200477, 1.4434438968663166, 1.443627288067476, 1.4432009687112262, 1.4436462645661743, 1.443366976860143, 1.443255870184559, 1.4429442789731104, 1.4428676486844743, 1.4435497886262278, 1.4429224052990384, 1.4429429752441922, 1.443023951295889, 1.4430843574024321, 1.4423111012951735, 1.4426034262903866, 1.442302120051515, 2.791187145788864, 2.7852519549698043, 2.264531207086408, 1.7449861019253325, 1.7423005632054482, 1.221524106442845, 1.2214552264625995, 1.2213663459215178, 1.2212667333721825, 1.2212914169911657, 1.2213912246679237, 1.2211396078562335, 1.2211260465003495, 1.2206618383615278, 1.2208272088523437, 1.220615105343769, 1.220374610795178, 1.2204498324166644, 1.2203981236496244, 1.220448759215839, 1.220259290488308, 1.2199699165203077, 1.219893816825419, 1.219474195302705, 1.2195618075155386, 1.2196413219403264, 1.21913486871447, 0.6981704554618624, 0.6981870412927997, 0.6981778215220729, 0.6981795288870223, 1.1161665095066506, 1.1153334647085995, 0.7808763835359425, 0.7808402107962394, 0.7807110607181884, 0.780707309471108, 0.7806934655830735, 0.7806381793463422, 0.7806543454349502, 0.7804370410505116, 0.7803146789433678, 0.7802532299435759, 0.44663120316562027, 0.446608651025435, 0.44659806714974415, 0.4465706026621918, 0.44655291821167026, 0.44654376338248614, 0.44652849044794485, 0.44650803721981647, 0.4465236227582811, 0.446499239652259, 0.4464995522561824, 0.44651044873579665, 0.4465043306304395, 0.4464822697249909, 0.4464840560331244, 0.4464964262169488, 0.44649169250039505, 0.446487717964798, 0.4464929429160885, 0.44648628891829123, 0.44648745001857804], \"Total\": [3.0, 3.0, 1.0, 1.0, 2.0, 1.0, 1.0, 1.0, 1.0, 1.0, 1.0, 1.0, 1.0, 1.0, 1.0, 4.0, 2.0, 2.0, 0.0, 0.0, 0.0, 0.0, 0.0, 0.0, 0.0, 0.0, 0.0, 0.0, 0.0, 0.0, 4.215810301446697, 2.9753840663698363, 2.9750558683030945, 2.354941034640848, 2.3548870177601677, 2.353564489165685, 1.7346173648361394, 1.7345194791347398, 1.7343806585654773, 1.734546421728492, 1.7341325307463387, 1.7341201415131642, 1.7346669345087267, 1.7345859699843131, 1.7338862667909007, 1.7343829944893159, 1.733989022114533, 1.7345532958283991, 1.7342714457057116, 1.7341417477361922, 1.733787371330229, 1.7337222819572877, 1.7345958226507852, 1.733874543753033, 1.7339336926697322, 1.7342356948402329, 1.7343369432388687, 1.7335206443446407, 1.7339397461861212, 1.7336928470250197, 3.1151850302998563, 3.1146570202618618, 2.5908205960413486, 2.0666622791185834, 2.0664505365633064, 1.5424020538635879, 1.5424681263722553, 1.5423630706098213, 1.5422741057540144, 1.5423691241290711, 1.542524624416653, 1.5423432727550705, 1.5423605545299206, 1.5421603302564015, 1.5423757512538452, 1.5421692707699595, 1.542077492731388, 1.5422285001962663, 1.5422658190132397, 1.5424613505511766, 1.5425403547886791, 1.5422680220992302, 1.5424284244301052, 1.5419881582539001, 1.5422702383339597, 1.5424405064893907, 1.5424119047081861, 1.0180491915580594, 1.018080669502878, 1.018075898470209, 1.018122484272913, 1.5028868483426487, 1.5035285566476513, 1.1668551878595061, 1.1669225744424134, 1.1669849967908352, 1.167062161350381, 1.1670586575765594, 1.1670295808209856, 1.1670829281601178, 1.1672018741482764, 1.1673051906919303, 1.1672739234377292, 0.8301939352556174, 0.8301824942219672, 0.8302089686460057, 0.8301890832248369, 0.8302061571455903, 0.8301976564333646, 0.8302429720857107, 0.8302108414908637, 0.8302408280508957, 0.8302082617086641, 0.8302220552698478, 0.8302467009344479, 0.83024851133027, 0.8302165231685064, 0.8302319724477611, 0.8302635784372188, 0.8302600617302076, 0.8302584246312714, 0.8302710082589599, 0.8302644446640811, 0.8302866679011248], \"Category\": [\"Default\", \"Default\", \"Default\", \"Default\", \"Default\", \"Default\", \"Default\", \"Default\", \"Default\", \"Default\", \"Default\", \"Default\", \"Default\", \"Default\", \"Default\", \"Default\", \"Default\", \"Default\", \"Default\", \"Default\", \"Default\", \"Default\", \"Default\", \"Default\", \"Default\", \"Default\", \"Default\", \"Default\", \"Default\", \"Default\", \"Topic1\", \"Topic1\", \"Topic1\", \"Topic1\", \"Topic1\", \"Topic1\", \"Topic1\", \"Topic1\", \"Topic1\", \"Topic1\", \"Topic1\", \"Topic1\", \"Topic1\", \"Topic1\", \"Topic1\", \"Topic1\", \"Topic1\", \"Topic1\", \"Topic1\", \"Topic1\", \"Topic1\", \"Topic1\", \"Topic1\", \"Topic1\", \"Topic1\", \"Topic1\", \"Topic1\", \"Topic1\", \"Topic1\", \"Topic1\", \"Topic2\", \"Topic2\", \"Topic2\", \"Topic2\", \"Topic2\", \"Topic2\", \"Topic2\", \"Topic2\", \"Topic2\", \"Topic2\", \"Topic2\", \"Topic2\", \"Topic2\", \"Topic2\", \"Topic2\", \"Topic2\", \"Topic2\", \"Topic2\", \"Topic2\", \"Topic2\", \"Topic2\", \"Topic2\", \"Topic2\", \"Topic2\", \"Topic2\", \"Topic2\", \"Topic2\", \"Topic2\", \"Topic2\", \"Topic2\", \"Topic2\", \"Topic3\", \"Topic3\", \"Topic3\", \"Topic3\", \"Topic3\", \"Topic3\", \"Topic3\", \"Topic3\", \"Topic3\", \"Topic3\", \"Topic3\", \"Topic3\", \"Topic3\", \"Topic3\", \"Topic3\", \"Topic3\", \"Topic3\", \"Topic3\", \"Topic3\", \"Topic3\", \"Topic3\", \"Topic3\", \"Topic3\", \"Topic3\", \"Topic3\", \"Topic3\", \"Topic3\", \"Topic3\", \"Topic3\", \"Topic3\", \"Topic3\", \"Topic3\", \"Topic3\"], \"logprob\": [30.0, 29.0, 28.0, 27.0, 26.0, 25.0, 24.0, 23.0, 22.0, 21.0, 20.0, 19.0, 18.0, 17.0, 16.0, 15.0, 14.0, 13.0, 12.0, 11.0, 10.0, 9.0, 8.0, 7.0, 6.0, 5.0, 4.0, 3.0, 2.0, 1.0, -5.067, -5.4464, -5.4474, -5.7084, -5.7085, -5.7107, -6.0648, -6.065, -6.0652, -6.0652, -6.0654, -6.0656, -6.0655, -6.0656, -6.0662, -6.066, -6.0663, -6.066, -6.0662, -6.0663, -6.0665, -6.0666, -6.0661, -6.0665, -6.0665, -6.0665, -6.0664, -6.067, -6.0668, -6.067, -5.0115, -5.0136, -5.2206, -5.4812, -5.4827, -5.8379, -5.8379, -5.838, -5.8381, -5.838, -5.838, -5.8382, -5.8382, -5.8386, -5.8384, -5.8386, -5.8388, -5.8387, -5.8388, -5.8387, -5.8389, -5.8391, -5.8392, -5.8395, -5.8395, -5.8394, -5.8398, -6.3972, -6.3972, -6.3972, -6.3972, -5.1466, -5.1473, -5.5038, -5.5039, -5.504, -5.504, -5.504, -5.5041, -5.5041, -5.5044, -5.5045, -5.5046, -6.0625, -6.0625, -6.0626, -6.0626, -6.0627, -6.0627, -6.0627, -6.0628, -6.0627, -6.0628, -6.0628, -6.0628, -6.0628, -6.0628, -6.0628, -6.0628, -6.0628, -6.0628, -6.0628, -6.0628, -6.0628], \"loglift\": [30.0, 29.0, 28.0, 27.0, 26.0, 25.0, 24.0, 23.0, 22.0, 21.0, 20.0, 19.0, 18.0, 17.0, 16.0, 15.0, 14.0, 13.0, 12.0, 11.0, 10.0, 9.0, 8.0, 7.0, 6.0, 5.0, 4.0, 3.0, 2.0, 1.0, 0.6114, 0.5805, 0.5795, 0.5523, 0.5522, 0.5505, 0.5016, 0.5015, 0.5014, 0.5013, 0.5013, 0.5011, 0.5009, 0.5009, 0.5007, 0.5005, 0.5004, 0.5004, 0.5004, 0.5004, 0.5004, 0.5004, 0.5003, 0.5003, 0.5003, 0.5002, 0.5002, 0.5001, 0.5001, 0.5, 0.9694, 0.9675, 0.9446, 0.9101, 0.9086, 0.846, 0.8459, 0.8459, 0.8459, 0.8458, 0.8458, 0.8457, 0.8457, 0.8455, 0.8455, 0.8454, 0.8453, 0.8452, 0.8452, 0.8451, 0.8449, 0.8448, 0.8447, 0.8446, 0.8445, 0.8444, 0.8441, 0.7021, 0.7021, 0.7021, 0.702, 1.5632, 1.5621, 1.4591, 1.459, 1.4588, 1.4587, 1.4587, 1.4586, 1.4586, 1.4582, 1.458, 1.4579, 1.2408, 1.2408, 1.2407, 1.2407, 1.2406, 1.2406, 1.2405, 1.2405, 1.2405, 1.2405, 1.2405, 1.2405, 1.2405, 1.2404, 1.2404, 1.2404, 1.2404, 1.2404, 1.2404, 1.2404, 1.2404]}, \"token.table\": {\"Topic\": [2, 3, 1, 1, 3, 1, 2, 1, 2, 2, 1, 1, 1, 1, 3, 2, 2, 1, 2, 3, 1, 2, 2, 1, 1, 1, 2, 1, 1, 2, 1, 3, 3, 3, 2, 1, 2, 1, 1, 2, 3, 1, 1, 2, 2, 1, 2, 2, 2, 1, 3, 3, 1, 3, 2, 2, 2, 2, 1, 1, 2, 1, 2, 2, 2, 3, 1, 2, 1, 2, 2, 1, 2], \"Freq\": [0.6483931723090833, 0.8567498237866642, 0.5765746954461021, 0.5764960159351714, 0.8570043741540992, 0.5765195946750681, 0.6485134108502942, 0.5764795420414288, 0.6483568300959169, 0.9822000942392947, 0.5765739188964126, 0.5766228909802974, 0.5766571944588448, 0.5765064501294471, 0.8568371414501619, 0.7719561914305859, 0.96318791458707, 0.5765031755189021, 0.6482812568861418, 0.856909045746057, 0.5768034411147158, 0.6483966561872013, 0.982245038412784, 0.5768607390182255, 0.8492976456689137, 0.576742996546604, 0.6483557724217417, 0.5767936482139739, 0.8492781647524436, 0.6484372493693442, 0.5765892284647429, 0.8568763092504621, 0.8568549605523146, 0.6651020997098014, 0.6483947982295579, 0.5765173099062451, 0.967843151632451, 0.576739097109762, 0.5766110042785597, 0.9630246585100054, 0.6653860875173526, 0.8497748879228629, 0.5765285498545379, 0.9822404353166763, 0.6483957299710255, 0.576654129517056, 0.6484123460776003, 0.6483144615861294, 0.6483640948578919, 1.0083844246296905, 0.8566969414127816, 0.8568523880878142, 1.0082731953526245, 0.8566739940625478, 0.6482878679347999, 0.6483232227063392, 0.6483532277428528, 0.6484410086166195, 0.5766613143235951, 0.9488092950072635, 0.6483393856323543, 0.5767049198388455, 0.6483352449157822, 0.9677439900112687, 0.6483283011135372, 0.856954884498508, 0.576771994384041, 0.9822708060595419, 0.576721308914883, 0.6483504419640084, 0.6484758416574519, 0.576723322366672, 0.6483116136421626], \"Term\": [\"2015\", \"2020\", \"47\", \"\\\\ndistributed\", \"\\\\npresident\", \"according\", \"active\", \"admiral\", \"after\", \"agreement\", \"appeals\", \"boycott\", \"changes\", \"chauvinistic\", \"chief\", \"civic\", \"civil\", \"comes\", \"conservative\", \"court',\", \"current\", \"decision\", \"disciplinary\", \"erosion\", \"filled\", \"go\", \"going\", \"gradually',\", \"however',\", \"investigations\", \"japanese\", \"judge\", \"judges\", \"justices\", \"key\", \"known\", \"leading\", \"left\", \"likely\", \"ministry\", \"named\", \"norms\", \"number\", \"numerous\", \"participation\", \"people\", \"policy\", \"politicized\", \"politics\", \"populism\", \"post.\", \"powers\", \"pr\", \"principle\", \"proclaimed\", \"protests\", \"purges\", \"regarding\", \"results\", \"seats\", \"second\", \"see\", \"seem\", \"special\", \"still\", \"term\", \"trends\", \"typical\", \"whose\", \"working-level\", \"yoon\", \"you\", \"\\u201ceradicating\"]}, \"R\": 30, \"lambda.step\": 0.01, \"plot.opts\": {\"xlab\": \"PC1\", \"ylab\": \"PC2\"}, \"topic.order\": [3, 1, 2]};\n",
       "\n",
       "function LDAvis_load_lib(url, callback){\n",
       "  var s = document.createElement('script');\n",
       "  s.src = url;\n",
       "  s.async = true;\n",
       "  s.onreadystatechange = s.onload = callback;\n",
       "  s.onerror = function(){console.warn(\"failed to load library \" + url);};\n",
       "  document.getElementsByTagName(\"head\")[0].appendChild(s);\n",
       "}\n",
       "\n",
       "if(typeof(LDAvis) !== \"undefined\"){\n",
       "   // already loaded: just create the visualization\n",
       "   !function(LDAvis){\n",
       "       new LDAvis(\"#\" + \"ldavis_el383626455810312321740838660\", ldavis_el383626455810312321740838660_data);\n",
       "   }(LDAvis);\n",
       "}else if(typeof define === \"function\" && define.amd){\n",
       "   // require.js is available: use it to load d3/LDAvis\n",
       "   require.config({paths: {d3: \"https://d3js.org/d3.v5\"}});\n",
       "   require([\"d3\"], function(d3){\n",
       "      window.d3 = d3;\n",
       "      LDAvis_load_lib(\"https://cdn.jsdelivr.net/gh/bmabey/pyLDAvis@3.4.0/pyLDAvis/js/ldavis.v3.0.0.js\", function(){\n",
       "        new LDAvis(\"#\" + \"ldavis_el383626455810312321740838660\", ldavis_el383626455810312321740838660_data);\n",
       "      });\n",
       "    });\n",
       "}else{\n",
       "    // require.js not available: dynamically load d3 & LDAvis\n",
       "    LDAvis_load_lib(\"https://d3js.org/d3.v5.js\", function(){\n",
       "         LDAvis_load_lib(\"https://cdn.jsdelivr.net/gh/bmabey/pyLDAvis@3.4.0/pyLDAvis/js/ldavis.v3.0.0.js\", function(){\n",
       "                 new LDAvis(\"#\" + \"ldavis_el383626455810312321740838660\", ldavis_el383626455810312321740838660_data);\n",
       "            })\n",
       "         });\n",
       "}\n",
       "</script>"
      ],
      "text/plain": [
       "<IPython.core.display.HTML object>"
      ]
     },
     "execution_count": 26,
     "metadata": {},
     "output_type": "execute_result"
    }
   ],
   "source": [
    "# 輸出主題模型分析結果\n",
    "import pyLDAvis.gensim\n",
    "pyLDAvis.enable_notebook()\n",
    "vis = pyLDAvis.gensim.prepare(lda_model, corpus, dictionary)\n",
    "pyLDAvis.display(vis)"
   ]
  },
  {
   "cell_type": "code",
   "execution_count": null,
   "id": "57f42150",
   "metadata": {},
   "outputs": [],
   "source": []
  }
 ],
 "metadata": {
  "kernelspec": {
   "display_name": "Python 3 (ipykernel)",
   "language": "python",
   "name": "python3"
  },
  "language_info": {
   "codemirror_mode": {
    "name": "ipython",
    "version": 3
   },
   "file_extension": ".py",
   "mimetype": "text/x-python",
   "name": "python",
   "nbconvert_exporter": "python",
   "pygments_lexer": "ipython3",
   "version": "3.9.13"
  }
 },
 "nbformat": 4,
 "nbformat_minor": 5
}
