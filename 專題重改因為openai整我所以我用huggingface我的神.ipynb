{
 "cells": [
  {
   "cell_type": "code",
   "execution_count": 1,
   "id": "0eacb78e-7cde-4427-8729-ae3fcecd2b04",
   "metadata": {},
   "outputs": [
    {
     "name": "stdout",
     "output_type": "stream",
     "text": [
      "Requirement already satisfied: gTTS in c:\\users\\peter_4bywd5d\\anaconda3\\lib\\site-packages (2.5.1)\n",
      "Requirement already satisfied: requests<3,>=2.27 in c:\\users\\peter_4bywd5d\\anaconda3\\lib\\site-packages (from gTTS) (2.31.0)\n",
      "Requirement already satisfied: click<8.2,>=7.1 in c:\\users\\peter_4bywd5d\\anaconda3\\lib\\site-packages (from gTTS) (8.1.7)\n",
      "Requirement already satisfied: colorama in c:\\users\\peter_4bywd5d\\anaconda3\\lib\\site-packages (from click<8.2,>=7.1->gTTS) (0.4.6)\n",
      "Requirement already satisfied: charset-normalizer<4,>=2 in c:\\users\\peter_4bywd5d\\anaconda3\\lib\\site-packages (from requests<3,>=2.27->gTTS) (2.0.4)\n",
      "Requirement already satisfied: idna<4,>=2.5 in c:\\users\\peter_4bywd5d\\anaconda3\\lib\\site-packages (from requests<3,>=2.27->gTTS) (3.4)\n",
      "Requirement already satisfied: urllib3<3,>=1.21.1 in c:\\users\\peter_4bywd5d\\anaconda3\\lib\\site-packages (from requests<3,>=2.27->gTTS) (2.0.7)\n",
      "Requirement already satisfied: certifi>=2017.4.17 in c:\\users\\peter_4bywd5d\\anaconda3\\lib\\site-packages (from requests<3,>=2.27->gTTS) (2024.2.2)\n",
      "Note: you may need to restart the kernel to use updated packages.\n"
     ]
    }
   ],
   "source": [
    "pip install gTTS"
   ]
  },
  {
   "cell_type": "code",
   "execution_count": 2,
   "id": "9337d4c1-80f4-4dc6-83a3-6fde7118e48a",
   "metadata": {},
   "outputs": [
    {
     "name": "stdout",
     "output_type": "stream",
     "text": [
      "Requirement already satisfied: gradio in c:\\users\\peter_4bywd5d\\anaconda3\\lib\\site-packages (4.31.5)\n",
      "Requirement already satisfied: aiofiles<24.0,>=22.0 in c:\\users\\peter_4bywd5d\\anaconda3\\lib\\site-packages (from gradio) (23.2.1)\n",
      "Requirement already satisfied: altair<6.0,>=4.2.0 in c:\\users\\peter_4bywd5d\\anaconda3\\lib\\site-packages (from gradio) (5.0.1)\n",
      "Requirement already satisfied: fastapi in c:\\users\\peter_4bywd5d\\anaconda3\\lib\\site-packages (from gradio) (0.111.0)\n",
      "Requirement already satisfied: ffmpy in c:\\users\\peter_4bywd5d\\anaconda3\\lib\\site-packages (from gradio) (0.3.2)\n",
      "Requirement already satisfied: gradio-client==0.16.4 in c:\\users\\peter_4bywd5d\\anaconda3\\lib\\site-packages (from gradio) (0.16.4)\n",
      "Requirement already satisfied: httpx>=0.24.1 in c:\\users\\peter_4bywd5d\\anaconda3\\lib\\site-packages (from gradio) (0.27.0)\n",
      "Requirement already satisfied: huggingface-hub>=0.19.3 in c:\\users\\peter_4bywd5d\\anaconda3\\lib\\site-packages (from gradio) (0.23.0)\n",
      "Requirement already satisfied: importlib-resources<7.0,>=1.3 in c:\\users\\peter_4bywd5d\\anaconda3\\lib\\site-packages (from gradio) (6.4.0)\n",
      "Requirement already satisfied: jinja2<4.0 in c:\\users\\peter_4bywd5d\\anaconda3\\lib\\site-packages (from gradio) (3.1.3)\n",
      "Requirement already satisfied: markupsafe~=2.0 in c:\\users\\peter_4bywd5d\\anaconda3\\lib\\site-packages (from gradio) (2.1.3)\n",
      "Requirement already satisfied: matplotlib~=3.0 in c:\\users\\peter_4bywd5d\\anaconda3\\lib\\site-packages (from gradio) (3.8.0)\n",
      "Requirement already satisfied: numpy~=1.0 in c:\\users\\peter_4bywd5d\\anaconda3\\lib\\site-packages (from gradio) (1.26.4)\n",
      "Requirement already satisfied: orjson~=3.0 in c:\\users\\peter_4bywd5d\\anaconda3\\lib\\site-packages (from gradio) (3.10.3)\n",
      "Requirement already satisfied: packaging in c:\\users\\peter_4bywd5d\\anaconda3\\lib\\site-packages (from gradio) (23.1)\n",
      "Requirement already satisfied: pandas<3.0,>=1.0 in c:\\users\\peter_4bywd5d\\anaconda3\\lib\\site-packages (from gradio) (2.1.4)\n",
      "Requirement already satisfied: pillow<11.0,>=8.0 in c:\\users\\peter_4bywd5d\\anaconda3\\lib\\site-packages (from gradio) (10.2.0)\n",
      "Requirement already satisfied: pydantic>=2.0 in c:\\users\\peter_4bywd5d\\anaconda3\\lib\\site-packages (from gradio) (2.7.1)\n",
      "Requirement already satisfied: pydub in c:\\users\\peter_4bywd5d\\anaconda3\\lib\\site-packages (from gradio) (0.25.1)\n",
      "Requirement already satisfied: python-multipart>=0.0.9 in c:\\users\\peter_4bywd5d\\anaconda3\\lib\\site-packages (from gradio) (0.0.9)\n",
      "Requirement already satisfied: pyyaml<7.0,>=5.0 in c:\\users\\peter_4bywd5d\\anaconda3\\lib\\site-packages (from gradio) (6.0.1)\n",
      "Requirement already satisfied: ruff>=0.2.2 in c:\\users\\peter_4bywd5d\\anaconda3\\lib\\site-packages (from gradio) (0.4.4)\n",
      "Requirement already satisfied: semantic-version~=2.0 in c:\\users\\peter_4bywd5d\\anaconda3\\lib\\site-packages (from gradio) (2.10.0)\n",
      "Requirement already satisfied: tomlkit==0.12.0 in c:\\users\\peter_4bywd5d\\anaconda3\\lib\\site-packages (from gradio) (0.12.0)\n",
      "Requirement already satisfied: typer<1.0,>=0.12 in c:\\users\\peter_4bywd5d\\anaconda3\\lib\\site-packages (from gradio) (0.12.3)\n",
      "Requirement already satisfied: typing-extensions~=4.0 in c:\\users\\peter_4bywd5d\\anaconda3\\lib\\site-packages (from gradio) (4.9.0)\n",
      "Requirement already satisfied: urllib3~=2.0 in c:\\users\\peter_4bywd5d\\anaconda3\\lib\\site-packages (from gradio) (2.0.7)\n",
      "Requirement already satisfied: uvicorn>=0.14.0 in c:\\users\\peter_4bywd5d\\anaconda3\\lib\\site-packages (from gradio) (0.29.0)\n",
      "Requirement already satisfied: fsspec in c:\\users\\peter_4bywd5d\\anaconda3\\lib\\site-packages (from gradio-client==0.16.4->gradio) (2023.10.0)\n",
      "Requirement already satisfied: websockets<12.0,>=10.0 in c:\\users\\peter_4bywd5d\\anaconda3\\lib\\site-packages (from gradio-client==0.16.4->gradio) (11.0.3)\n",
      "Requirement already satisfied: jsonschema>=3.0 in c:\\users\\peter_4bywd5d\\anaconda3\\lib\\site-packages (from altair<6.0,>=4.2.0->gradio) (4.19.2)\n",
      "Requirement already satisfied: toolz in c:\\users\\peter_4bywd5d\\anaconda3\\lib\\site-packages (from altair<6.0,>=4.2.0->gradio) (0.12.0)\n",
      "Requirement already satisfied: anyio in c:\\users\\peter_4bywd5d\\anaconda3\\lib\\site-packages (from httpx>=0.24.1->gradio) (4.2.0)\n",
      "Requirement already satisfied: certifi in c:\\users\\peter_4bywd5d\\anaconda3\\lib\\site-packages (from httpx>=0.24.1->gradio) (2024.2.2)\n",
      "Requirement already satisfied: httpcore==1.* in c:\\users\\peter_4bywd5d\\anaconda3\\lib\\site-packages (from httpx>=0.24.1->gradio) (1.0.5)\n",
      "Requirement already satisfied: idna in c:\\users\\peter_4bywd5d\\anaconda3\\lib\\site-packages (from httpx>=0.24.1->gradio) (3.4)\n",
      "Requirement already satisfied: sniffio in c:\\users\\peter_4bywd5d\\anaconda3\\lib\\site-packages (from httpx>=0.24.1->gradio) (1.3.0)\n",
      "Requirement already satisfied: h11<0.15,>=0.13 in c:\\users\\peter_4bywd5d\\anaconda3\\lib\\site-packages (from httpcore==1.*->httpx>=0.24.1->gradio) (0.14.0)\n",
      "Requirement already satisfied: filelock in c:\\users\\peter_4bywd5d\\anaconda3\\lib\\site-packages (from huggingface-hub>=0.19.3->gradio) (3.13.1)\n",
      "Requirement already satisfied: requests in c:\\users\\peter_4bywd5d\\anaconda3\\lib\\site-packages (from huggingface-hub>=0.19.3->gradio) (2.31.0)\n",
      "Requirement already satisfied: tqdm>=4.42.1 in c:\\users\\peter_4bywd5d\\anaconda3\\lib\\site-packages (from huggingface-hub>=0.19.3->gradio) (4.65.0)\n",
      "Requirement already satisfied: contourpy>=1.0.1 in c:\\users\\peter_4bywd5d\\anaconda3\\lib\\site-packages (from matplotlib~=3.0->gradio) (1.2.0)\n",
      "Requirement already satisfied: cycler>=0.10 in c:\\users\\peter_4bywd5d\\anaconda3\\lib\\site-packages (from matplotlib~=3.0->gradio) (0.11.0)\n",
      "Requirement already satisfied: fonttools>=4.22.0 in c:\\users\\peter_4bywd5d\\anaconda3\\lib\\site-packages (from matplotlib~=3.0->gradio) (4.25.0)\n",
      "Requirement already satisfied: kiwisolver>=1.0.1 in c:\\users\\peter_4bywd5d\\anaconda3\\lib\\site-packages (from matplotlib~=3.0->gradio) (1.4.4)\n",
      "Requirement already satisfied: pyparsing>=2.3.1 in c:\\users\\peter_4bywd5d\\anaconda3\\lib\\site-packages (from matplotlib~=3.0->gradio) (3.0.9)\n",
      "Requirement already satisfied: python-dateutil>=2.7 in c:\\users\\peter_4bywd5d\\anaconda3\\lib\\site-packages (from matplotlib~=3.0->gradio) (2.8.2)\n",
      "Requirement already satisfied: pytz>=2020.1 in c:\\users\\peter_4bywd5d\\anaconda3\\lib\\site-packages (from pandas<3.0,>=1.0->gradio) (2023.3.post1)\n",
      "Requirement already satisfied: tzdata>=2022.1 in c:\\users\\peter_4bywd5d\\anaconda3\\lib\\site-packages (from pandas<3.0,>=1.0->gradio) (2023.3)\n",
      "Requirement already satisfied: annotated-types>=0.4.0 in c:\\users\\peter_4bywd5d\\anaconda3\\lib\\site-packages (from pydantic>=2.0->gradio) (0.6.0)\n",
      "Requirement already satisfied: pydantic-core==2.18.2 in c:\\users\\peter_4bywd5d\\anaconda3\\lib\\site-packages (from pydantic>=2.0->gradio) (2.18.2)\n",
      "Requirement already satisfied: click>=8.0.0 in c:\\users\\peter_4bywd5d\\anaconda3\\lib\\site-packages (from typer<1.0,>=0.12->gradio) (8.1.7)\n",
      "Requirement already satisfied: shellingham>=1.3.0 in c:\\users\\peter_4bywd5d\\anaconda3\\lib\\site-packages (from typer<1.0,>=0.12->gradio) (1.5.4)\n",
      "Requirement already satisfied: rich>=10.11.0 in c:\\users\\peter_4bywd5d\\anaconda3\\lib\\site-packages (from typer<1.0,>=0.12->gradio) (13.3.5)\n",
      "Requirement already satisfied: starlette<0.38.0,>=0.37.2 in c:\\users\\peter_4bywd5d\\anaconda3\\lib\\site-packages (from fastapi->gradio) (0.37.2)\n",
      "Requirement already satisfied: fastapi-cli>=0.0.2 in c:\\users\\peter_4bywd5d\\anaconda3\\lib\\site-packages (from fastapi->gradio) (0.0.3)\n",
      "Requirement already satisfied: ujson!=4.0.2,!=4.1.0,!=4.2.0,!=4.3.0,!=5.0.0,!=5.1.0,>=4.0.1 in c:\\users\\peter_4bywd5d\\anaconda3\\lib\\site-packages (from fastapi->gradio) (5.4.0)\n",
      "Requirement already satisfied: email_validator>=2.0.0 in c:\\users\\peter_4bywd5d\\anaconda3\\lib\\site-packages (from fastapi->gradio) (2.1.1)\n",
      "Requirement already satisfied: colorama in c:\\users\\peter_4bywd5d\\anaconda3\\lib\\site-packages (from click>=8.0.0->typer<1.0,>=0.12->gradio) (0.4.6)\n",
      "Requirement already satisfied: dnspython>=2.0.0 in c:\\users\\peter_4bywd5d\\anaconda3\\lib\\site-packages (from email_validator>=2.0.0->fastapi->gradio) (2.6.1)\n",
      "Requirement already satisfied: attrs>=22.2.0 in c:\\users\\peter_4bywd5d\\anaconda3\\lib\\site-packages (from jsonschema>=3.0->altair<6.0,>=4.2.0->gradio) (23.1.0)\n",
      "Requirement already satisfied: jsonschema-specifications>=2023.03.6 in c:\\users\\peter_4bywd5d\\anaconda3\\lib\\site-packages (from jsonschema>=3.0->altair<6.0,>=4.2.0->gradio) (2023.7.1)\n",
      "Requirement already satisfied: referencing>=0.28.4 in c:\\users\\peter_4bywd5d\\anaconda3\\lib\\site-packages (from jsonschema>=3.0->altair<6.0,>=4.2.0->gradio) (0.30.2)\n",
      "Requirement already satisfied: rpds-py>=0.7.1 in c:\\users\\peter_4bywd5d\\anaconda3\\lib\\site-packages (from jsonschema>=3.0->altair<6.0,>=4.2.0->gradio) (0.10.6)\n",
      "Requirement already satisfied: six>=1.5 in c:\\users\\peter_4bywd5d\\anaconda3\\lib\\site-packages (from python-dateutil>=2.7->matplotlib~=3.0->gradio) (1.16.0)\n",
      "Requirement already satisfied: markdown-it-py<3.0.0,>=2.2.0 in c:\\users\\peter_4bywd5d\\anaconda3\\lib\\site-packages (from rich>=10.11.0->typer<1.0,>=0.12->gradio) (2.2.0)\n",
      "Requirement already satisfied: pygments<3.0.0,>=2.13.0 in c:\\users\\peter_4bywd5d\\anaconda3\\lib\\site-packages (from rich>=10.11.0->typer<1.0,>=0.12->gradio) (2.15.1)\n",
      "Requirement already satisfied: httptools>=0.5.0 in c:\\users\\peter_4bywd5d\\anaconda3\\lib\\site-packages (from uvicorn[standard]>=0.12.0->fastapi->gradio) (0.6.1)\n",
      "Requirement already satisfied: python-dotenv>=0.13 in c:\\users\\peter_4bywd5d\\anaconda3\\lib\\site-packages (from uvicorn[standard]>=0.12.0->fastapi->gradio) (0.21.0)\n",
      "Requirement already satisfied: watchfiles>=0.13 in c:\\users\\peter_4bywd5d\\anaconda3\\lib\\site-packages (from uvicorn[standard]>=0.12.0->fastapi->gradio) (0.21.0)\n",
      "Requirement already satisfied: charset-normalizer<4,>=2 in c:\\users\\peter_4bywd5d\\anaconda3\\lib\\site-packages (from requests->huggingface-hub>=0.19.3->gradio) (2.0.4)\n",
      "Requirement already satisfied: mdurl~=0.1 in c:\\users\\peter_4bywd5d\\anaconda3\\lib\\site-packages (from markdown-it-py<3.0.0,>=2.2.0->rich>=10.11.0->typer<1.0,>=0.12->gradio) (0.1.0)\n",
      "Note: you may need to restart the kernel to use updated packages.\n"
     ]
    }
   ],
   "source": [
    "pip install -U gradio"
   ]
  },
  {
   "cell_type": "code",
   "execution_count": 3,
   "id": "ad786b23-fcb2-463f-b872-e835724cfdc2",
   "metadata": {},
   "outputs": [
    {
     "name": "stdout",
     "output_type": "stream",
     "text": [
      "Requirement already satisfied: sentencepiece in c:\\users\\peter_4bywd5d\\anaconda3\\lib\\site-packages (0.2.0)\n",
      "Note: you may need to restart the kernel to use updated packages.\n"
     ]
    }
   ],
   "source": [
    "pip install sentencepiece"
   ]
  },
  {
   "cell_type": "code",
   "execution_count": 4,
   "id": "336226fd-1307-413e-9b78-3b3d1bab8e52",
   "metadata": {},
   "outputs": [
    {
     "name": "stdout",
     "output_type": "stream",
     "text": [
      "Requirement already satisfied: PyPDF2 in c:\\users\\peter_4bywd5d\\anaconda3\\lib\\site-packages (3.0.1)\n",
      "Note: you may need to restart the kernel to use updated packages.\n"
     ]
    }
   ],
   "source": [
    "pip install PyPDF2"
   ]
  },
  {
   "cell_type": "code",
   "execution_count": 5,
   "id": "a96001c0-ac6a-4475-8949-79df1790fb64",
   "metadata": {},
   "outputs": [
    {
     "name": "stdout",
     "output_type": "stream",
     "text": [
      "Requirement already satisfied: transformers in c:\\users\\peter_4bywd5d\\anaconda3\\lib\\site-packages (4.41.0)\n",
      "Requirement already satisfied: filelock in c:\\users\\peter_4bywd5d\\anaconda3\\lib\\site-packages (from transformers) (3.13.1)\n",
      "Requirement already satisfied: huggingface-hub<1.0,>=0.23.0 in c:\\users\\peter_4bywd5d\\anaconda3\\lib\\site-packages (from transformers) (0.23.0)\n",
      "Requirement already satisfied: numpy>=1.17 in c:\\users\\peter_4bywd5d\\anaconda3\\lib\\site-packages (from transformers) (1.26.4)\n",
      "Requirement already satisfied: packaging>=20.0 in c:\\users\\peter_4bywd5d\\anaconda3\\lib\\site-packages (from transformers) (23.1)\n",
      "Requirement already satisfied: pyyaml>=5.1 in c:\\users\\peter_4bywd5d\\anaconda3\\lib\\site-packages (from transformers) (6.0.1)\n",
      "Requirement already satisfied: regex!=2019.12.17 in c:\\users\\peter_4bywd5d\\anaconda3\\lib\\site-packages (from transformers) (2023.10.3)\n",
      "Requirement already satisfied: requests in c:\\users\\peter_4bywd5d\\anaconda3\\lib\\site-packages (from transformers) (2.31.0)\n",
      "Requirement already satisfied: tokenizers<0.20,>=0.19 in c:\\users\\peter_4bywd5d\\anaconda3\\lib\\site-packages (from transformers) (0.19.1)\n",
      "Requirement already satisfied: safetensors>=0.4.1 in c:\\users\\peter_4bywd5d\\anaconda3\\lib\\site-packages (from transformers) (0.4.3)\n",
      "Requirement already satisfied: tqdm>=4.27 in c:\\users\\peter_4bywd5d\\anaconda3\\lib\\site-packages (from transformers) (4.65.0)\n",
      "Requirement already satisfied: fsspec>=2023.5.0 in c:\\users\\peter_4bywd5d\\anaconda3\\lib\\site-packages (from huggingface-hub<1.0,>=0.23.0->transformers) (2023.10.0)\n",
      "Requirement already satisfied: typing-extensions>=3.7.4.3 in c:\\users\\peter_4bywd5d\\anaconda3\\lib\\site-packages (from huggingface-hub<1.0,>=0.23.0->transformers) (4.9.0)\n",
      "Requirement already satisfied: colorama in c:\\users\\peter_4bywd5d\\anaconda3\\lib\\site-packages (from tqdm>=4.27->transformers) (0.4.6)\n",
      "Requirement already satisfied: charset-normalizer<4,>=2 in c:\\users\\peter_4bywd5d\\anaconda3\\lib\\site-packages (from requests->transformers) (2.0.4)\n",
      "Requirement already satisfied: idna<4,>=2.5 in c:\\users\\peter_4bywd5d\\anaconda3\\lib\\site-packages (from requests->transformers) (3.4)\n",
      "Requirement already satisfied: urllib3<3,>=1.21.1 in c:\\users\\peter_4bywd5d\\anaconda3\\lib\\site-packages (from requests->transformers) (2.0.7)\n",
      "Requirement already satisfied: certifi>=2017.4.17 in c:\\users\\peter_4bywd5d\\anaconda3\\lib\\site-packages (from requests->transformers) (2024.2.2)\n",
      "Note: you may need to restart the kernel to use updated packages.\n"
     ]
    }
   ],
   "source": [
    "pip install transformers"
   ]
  },
  {
   "cell_type": "code",
   "execution_count": 4,
   "id": "272034d5-c206-403c-b157-01de83283892",
   "metadata": {},
   "outputs": [
    {
     "name": "stdin",
     "output_type": "stream",
     "text": [
      "請輸入需要翻譯的文本:  晚安\n"
     ]
    },
    {
     "name": "stdout",
     "output_type": "stream",
     "text": [
      "印地語翻譯: रात्रिकाल\n",
      "中文翻譯: 晚安\n",
      "韓語翻譯: 晚安\n",
      "日語翻譯: 晚安\n"
     ]
    }
   ],
   "source": [
    "from transformers import MBartForConditionalGeneration, MBart50TokenizerFast\n",
    "\n",
    "import gradio as gr\n",
    "\n",
    "from gtts import gTTS\n",
    "from IPython.display import Audio\n",
    "import os\n",
    "from PyPDF2 import PdfReader \n",
    "# 載入模型和標記器\n",
    "model = MBartForConditionalGeneration.from_pretrained(\"facebook/mbart-large-50-one-to-many-mmt\")\n",
    "tokenizer = MBart50TokenizerFast.from_pretrained(\"facebook/mbart-large-50-one-to-many-mmt\")\n",
    "\n",
    "# 定義一個翻譯函數\n",
    "def translate(text, target_lang_code):\n",
    "    # 將輸入文本進行標記化\n",
    "    model_inputs = tokenizer(text, return_tensors=\"pt\")\n",
    "    \n",
    "    # 生成翻譯\n",
    "    generated_tokens = model.generate(\n",
    "        **model_inputs,\n",
    "        forced_bos_token_id=tokenizer.lang_code_to_id[target_lang_code]\n",
    "    )\n",
    "    \n",
    "    # 解碼翻譯後的標記\n",
    "    translated_text = tokenizer.batch_decode(generated_tokens, skip_special_tokens=True)\n",
    "    return translated_text[0]\n",
    "\n",
    "# 從使用者輸入文本\n",
    "article_en = input(\"請輸入需要翻譯的文本: \")\n",
    "\n",
    "# 翻譯成印地語\n",
    "translation_hi = translate(article_en, \"hi_IN\")\n",
    "print(\"印地語翻譯:\", translation_hi)\n",
    "\n",
    "# 翻譯成中文\n",
    "translation_zh = translate(article_en, \"zh_CN\")\n",
    "print(\"中文翻譯:\", translation_zh)\n",
    "\n",
    "# 翻譯成韓語\n",
    "translation_ko = translate(article_en, \"ko_KR\")\n",
    "print(\"韓語翻譯:\", translation_ko)\n",
    "\n",
    "# 翻譯成日語\n",
    "translation_ja = translate(article_en, \"ja_XX\")\n",
    "print(\"日語翻譯:\", translation_ja)"
   ]
  },
  {
   "cell_type": "code",
   "execution_count": null,
   "id": "a43498b9-a9a9-425e-9b40-c1358d989c58",
   "metadata": {},
   "outputs": [],
   "source": []
  },
  {
   "cell_type": "code",
   "execution_count": 11,
   "id": "734039cf-c056-443e-91cc-cf161296e3bd",
   "metadata": {},
   "outputs": [
    {
     "name": "stdout",
     "output_type": "stream",
     "text": [
      "Running on local URL:  http://127.0.0.1:7864\n",
      "Running on public URL: https://b2337f22c4376d848f.gradio.live\n",
      "\n",
      "This share link expires in 72 hours. For free permanent hosting and GPU upgrades, run `gradio deploy` from Terminal to deploy to Spaces (https://huggingface.co/spaces)\n"
     ]
    },
    {
     "data": {
      "text/html": [
       "<div><iframe src=\"https://b2337f22c4376d848f.gradio.live\" width=\"100%\" height=\"500\" allow=\"autoplay; camera; microphone; clipboard-read; clipboard-write;\" frameborder=\"0\" allowfullscreen></iframe></div>"
      ],
      "text/plain": [
       "<IPython.core.display.HTML object>"
      ]
     },
     "metadata": {},
     "output_type": "display_data"
    },
    {
     "data": {
      "text/plain": []
     },
     "execution_count": 11,
     "metadata": {},
     "output_type": "execute_result"
    }
   ],
   "source": [
    "import gradio as gr\n",
    "from transformers import MBartForConditionalGeneration, MBart50TokenizerFast\n",
    "\n",
    "import tempfile\n",
    "\n",
    "from gtts import gTTS\n",
    "from IPython.display import Audio\n",
    "import os\n",
    "from PyPDF2 import PdfReader \n",
    "\n",
    "# 載入模型和標記器\n",
    "model = MBartForConditionalGeneration.from_pretrained(\"facebook/mbart-large-50-one-to-many-mmt\")\n",
    "tokenizer = MBart50TokenizerFast.from_pretrained(\"facebook/mbart-large-50-one-to-many-mmt\")\n",
    "\n",
    "# 定義後處理函數，去除半語結尾\n",
    "def remove_semilang(sentence):\n",
    "    if sentence.endswith(\"하다\"):\n",
    "        return sentence[:-2] + \"해\"\n",
    "    elif sentence.endswith(\"다\"):\n",
    "        return sentence[:-1]\n",
    "    elif sentence.endswith(\"합니다\"):\n",
    "        return sentence[:-3]\n",
    "    elif sentence.endswith(\"세요\"):\n",
    "        return sentence[:-2]\n",
    "    elif sentence.endswith(\"하기\"):\n",
    "        return sentence[:-1] + \"해\"\n",
    "    elif sentence.endswith(\"기\"):\n",
    "        return sentence[:-1]\n",
    "    else:\n",
    "        return sentence\n",
    "\n",
    "# 定義翻譯函數\n",
    "def translate_text(text, wordtype):\n",
    "    target_lang_code = \"ko_KR\"  # 預設翻譯成韓語\n",
    "    model_inputs = tokenizer(text, return_tensors=\"pt\")\n",
    "    generated_tokens = model.generate(\n",
    "        **model_inputs,\n",
    "        forced_bos_token_id=tokenizer.lang_code_to_id[target_lang_code]\n",
    "    )\n",
    "    translated_text = tokenizer.batch_decode(generated_tokens, skip_special_tokens=True)\n",
    "    return translated_text[0]\n",
    "\n",
    "# 定義半語翻譯函數\n",
    "def translate_text_half(text, wordtype):\n",
    "    target_lang_code = \"ko_KR\"  # 預設翻譯成韓語\n",
    "    model_inputs = tokenizer(text, return_tensors=\"pt\")\n",
    "    generated_tokens = model.generate(\n",
    "        **model_inputs,\n",
    "        forced_bos_token_id=tokenizer.lang_code_to_id[target_lang_code]\n",
    "    )\n",
    "    translated_text = tokenizer.batch_decode(generated_tokens, skip_special_tokens=True)\n",
    "    semi_lang_translated = remove_semilang(translated_text[0])\n",
    "    return semi_lang_translated\n",
    "\n",
    "# 定義其他語言翻譯函數\n",
    "def translate_text2(text):\n",
    "    target_lang_code = \"ja_XX\"  # 翻譯成日語\n",
    "    model_inputs = tokenizer(text, return_tensors=\"pt\")\n",
    "    generated_tokens = model.generate(\n",
    "        **model_inputs,\n",
    "        forced_bos_token_id=tokenizer.lang_code_to_id[target_lang_code]\n",
    "    )\n",
    "    translated_text = tokenizer.batch_decode(generated_tokens, skip_special_tokens=True)\n",
    "    return translated_text[0]\n",
    "\n",
    "def translate_text3(text):\n",
    "    target_lang_code = \"zh_CN\"  # 翻譯成中文\n",
    "    model_inputs = tokenizer(text, return_tensors=\"pt\")\n",
    "    generated_tokens = model.generate(\n",
    "        **model_inputs,\n",
    "        forced_bos_token_id=tokenizer.lang_code_to_id[target_lang_code]\n",
    "    )\n",
    "    translated_text = tokenizer.batch_decode(generated_tokens, skip_special_tokens=True)\n",
    "    return translated_text[0]\n",
    "\n",
    "def text_to_speech(text):\n",
    "    language = \"ko\"\n",
    "    # 使用tempfile生成臨時文件名\n",
    "    with tempfile.NamedTemporaryFile(delete=False, suffix=\".wav\") as temp_file:\n",
    "        gtts_object = gTTS(text=text, lang=language, slow=False)\n",
    "        gtts_object.save(temp_file.name)\n",
    "        return temp_file.name\n",
    "\n",
    "def extract_and_translate_text_from_pdf(pdf_file, max_length=200):\n",
    "    try:\n",
    "        text = \"\"\n",
    "        with open(pdf_file.name, \"rb\") as file:\n",
    "            reader = PdfReader(file)\n",
    "            for page in reader.pages:\n",
    "                text += page.extract_text() or \"\"\n",
    "        \n",
    "        # 分割文本以确保不超过模型的最大输入长度\n",
    "        chunks = [text[i:i+max_length] for i in range(0, len(text), max_length)]\n",
    "        \n",
    "        # 翻譯提取的文本\n",
    "        translated_text = \"\"\n",
    "        for chunk in chunks:\n",
    "            model_inputs = tokenizer(chunk, return_tensors=\"pt\")\n",
    "            generated_tokens = model.generate(\n",
    "                **model_inputs,\n",
    "                forced_bos_token_id=tokenizer.lang_code_to_id[\"zh_CN\"]\n",
    "            )\n",
    "            translated_chunk = tokenizer.batch_decode(generated_tokens, skip_special_tokens=True)[0]\n",
    "            translated_text += translated_chunk + \" \"  # 在每段翻译结果之间加上空格\n",
    "        \n",
    "        return translated_text\n",
    "    except Exception as e:\n",
    "        return str(e)\n",
    "\n",
    "# 定義Gradio介面\n",
    "with gr.Blocks() as demo:\n",
    "    gr.Markdown(\"翻譯成韓文，不然我真的會gg耶，拜託拜託，阿如果有瑕疵的不要噴太用力嗚嗚嗚嗚嗚嗚嗚\")\n",
    "\n",
    "    with gr.Tab(\"一般\"):\n",
    "        with gr.Column():\n",
    "            text_input = gr.Textbox(label=\"請輸入文本\")\n",
    "            wordtype_input = gr.Radio(choices=[\"動詞\", \"名詞\", \"形容詞\"], label=\"請選擇詞類\")\n",
    "            text_output = gr.Textbox(label=\"翻譯結果\")\n",
    "            text_button = gr.Button(\"翻譯\")\n",
    "\n",
    "    with gr.Tab(\"半語\"):\n",
    "        with gr.Column():\n",
    "            text_input1 = gr.Textbox(label=\"請輸入文本\")\n",
    "            wordtype_input1 = gr.Radio(choices=[\"動詞\", \"名詞\", \"形容詞\"], label=\"請選擇詞類\")\n",
    "            text_output1 = gr.Textbox(label=\"翻譯結果\")\n",
    "            text_button1 = gr.Button(\"翻譯\")\n",
    "\n",
    "    with gr.Tab(\"音檔\"):\n",
    "        with gr.Column():\n",
    "            text_input2 = gr.Textbox(label=\"請輸入文本\")\n",
    "            text_output2 = gr.Audio(label=\"音檔\")\n",
    "            text_button2 = gr.Button(\"轉換\")\n",
    "\n",
    "    with gr.Tab(\"日文\"):\n",
    "        with gr.Column():\n",
    "            text_input3 = gr.Textbox(label=\"請輸入文本\")\n",
    "            text_output3 = gr.Textbox(label=\"翻譯結果\")\n",
    "            text_button3 = gr.Button(\"翻譯\")\n",
    "\n",
    "    with gr.Tab(\"中文\"):\n",
    "        with gr.Column():\n",
    "            text_input4 = gr.Textbox(label=\"請輸入文本\")\n",
    "            text_output4 = gr.Textbox(label=\"翻譯結果\")\n",
    "            text_button4 = gr.Button(\"翻譯\")\n",
    "\n",
    "    with gr.Tab(\"pdf的翻譯\"):\n",
    "        with gr.Column():\n",
    "            pdf_input = gr.File(label=\"上傳 PDF\", type=\"filepath\")\n",
    "            pdf_output = gr.Textbox(placeholder=\"翻譯後的文字將顯示在這裡\", label=\"翻譯\")\n",
    "            pdf_button = gr.Button(\"翻譯\")\n",
    "\n",
    "    # 定義翻譯或替換函數\n",
    "    def translate_or_replace(text):\n",
    "        if text in [\"早安\", \"晚安\", \"午安\"]:\n",
    "            return \"안녕하세요\"\n",
    "        else:\n",
    "            return translate_text(text, \"ko_KR\")\n",
    "\n",
    "    # 定義按鈕的事件\n",
    "    text_button.click(translate_or_replace, inputs=[text_input], outputs=text_output)\n",
    "    text_button1.click(translate_or_replace, inputs=[text_input1], outputs=text_output1)\n",
    "    text_button2.click(text_to_speech, inputs=text_input2, outputs=text_output2)\n",
    "    text_button3.click(lambda text: translate_text2(text), inputs=text_input3, outputs=text_output3)\n",
    "    text_button4.click(lambda text: translate_text3(text), inputs=text_input4, outputs=text_output4)\n",
    "    pdf_button.click(extract_and_translate_text_from_pdf, inputs=pdf_input, outputs=pdf_output)\n",
    "\n",
    "# 啟動Gradio介面\n",
    "demo.launch(share=True)"
   ]
  },
  {
   "cell_type": "code",
   "execution_count": null,
   "id": "2e1b72ef-5108-496e-8907-3d62ab4f81a6",
   "metadata": {},
   "outputs": [],
   "source": []
  }
 ],
 "metadata": {
  "kernelspec": {
   "display_name": "Python 3 (ipykernel)",
   "language": "python",
   "name": "python3"
  },
  "language_info": {
   "codemirror_mode": {
    "name": "ipython",
    "version": 3
   },
   "file_extension": ".py",
   "mimetype": "text/x-python",
   "name": "python",
   "nbconvert_exporter": "python",
   "pygments_lexer": "ipython3",
   "version": "3.11.7"
  }
 },
 "nbformat": 4,
 "nbformat_minor": 5
}
