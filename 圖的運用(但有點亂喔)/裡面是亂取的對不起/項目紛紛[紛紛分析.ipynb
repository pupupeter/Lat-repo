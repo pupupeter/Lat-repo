{
 "cells": [
  {
   "cell_type": "code",
   "execution_count": 1,
   "id": "42aa4871",
   "metadata": {},
   "outputs": [
    {
     "name": "stdout",
     "output_type": "stream",
     "text": [
      "Index(['NO', 'Gender', 'DateOfBirth', 'Race', 'FaEdu', 'MomEdu', 'FaexpEdu',\n",
      "       'CoexpEdu', 'Income', 'Grade', 'Level', 'Sportyear', 'ExpectEdu', 'a1',\n",
      "       'a2', 'a3', 'a4', 'a5', 'a6', 'a7', 'b1', 'b2', 'b3', 'b4', 'b5', 'b6',\n",
      "       'c1', 'c2', 'c3', 'c4', 'c5', 'c6', 'c7', 'c8', 'c9', 'c10', 'pl', 'al',\n",
      "       'ss', 'tr', 'blue', 'achievement', 'alienance'],\n",
      "      dtype='object')\n"
     ]
    }
   ],
   "source": [
    "import pandas as pd \n",
    "df=pd.read_csv('python2011nsc.csv')\n",
    "print(df.columns)"
   ]
  },
  {
   "cell_type": "code",
   "execution_count": 3,
   "id": "4dadd660",
   "metadata": {},
   "outputs": [
    {
     "data": {
      "text/plain": [
       "count    530.000000\n",
       "mean       3.549865\n",
       "std        0.506504\n",
       "min        1.714286\n",
       "25%        3.178571\n",
       "50%        3.571429\n",
       "75%        3.857143\n",
       "max        5.000000\n",
       "Name: mat, dtype: float64"
      ]
     },
     "execution_count": 3,
     "metadata": {},
     "output_type": "execute_result"
    }
   ],
   "source": [
    "a_sum=['a1','a2','a3','a4','a5','a6','a7']\n",
    "df['at']=df[a_sum].sum(axis='columns')\n",
    "df['mat']=df['at']/7\n",
    "df['mat'].describe()"
   ]
  },
  {
   "cell_type": "code",
   "execution_count": 14,
   "id": "860965e6",
   "metadata": {},
   "outputs": [
    {
     "name": "stdout",
     "output_type": "stream",
     "text": [
      "matH    176\n",
      "matL    133\n",
      "Name: matHL, dtype: int64\n",
      "====\n",
      "0      matL\n",
      "1       NaN\n",
      "2       NaN\n",
      "3      matL\n",
      "4      matH\n",
      "       ... \n",
      "525    matL\n",
      "526    matH\n",
      "527    matH\n",
      "528    matH\n",
      "529    matH\n",
      "Name: matHL, Length: 530, dtype: object\n"
     ]
    }
   ],
   "source": [
    "#高低分組變數\n",
    "df.loc[df.mat>3.8571,\"matHL\"]='matH'\n",
    "df.loc[df.mat<3.1785,\"matHL\"]='matL'\n",
    "print(df['matHL'].value_counts())\n",
    "print(\"====\")\n",
    "print(df['matHL'])"
   ]
  },
  {
   "cell_type": "code",
   "execution_count": 15,
   "id": "5d2cddac",
   "metadata": {},
   "outputs": [
    {
     "data": {
      "text/plain": [
       "Ttest_indResult(statistic=16.316339024573516, pvalue=1.570458627376885e-43)"
      ]
     },
     "execution_count": 15,
     "metadata": {},
     "output_type": "execute_result"
    }
   ],
   "source": [
    "#執行項目分析的鑑別度\n",
    "import scipy.stats as stats\n",
    "group1 = df['a1'][df['matHL']=='matH']\n",
    "group2 = df['a1'][df['matHL']=='matL']\n",
    "stats.ttest_ind(group1,group2)"
   ]
  },
  {
   "cell_type": "code",
   "execution_count": 17,
   "id": "a9c2ca73",
   "metadata": {},
   "outputs": [
    {
     "name": "stdout",
     "output_type": "stream",
     "text": [
      "a1: Ttest_indResult(statistic=16.316339024573516, pvalue=1.570458627376885e-43)\n",
      "a2: Ttest_indResult(statistic=13.622080473959553, pvalue=2.2429805342349368e-33)\n",
      "a3: Ttest_indResult(statistic=15.344362770909544, pvalue=7.745047598560892e-40)\n",
      "a4: Ttest_indResult(statistic=11.224635007256758, pvalue=9.971003776809036e-25)\n",
      "a5: Ttest_indResult(statistic=13.11918606336424, pvalue=1.6082955041277813e-31)\n",
      "a6: Ttest_indResult(statistic=16.362805056182292, pvalue=1.0447554887481638e-43)\n",
      "a7: Ttest_indResult(statistic=8.197106546191176, pvalue=6.7661077481949965e-15)\n"
     ]
    }
   ],
   "source": [
    "import scipy.stats as stats \n",
    "a1_1=df['a1'][df['matHL']=='matH']\n",
    "a1_2=df['a1'][df['matHL']=='matL']\n",
    "print(\"a1:\",stats.ttest_ind(a1_1,a1_2))\n",
    "a2_1=df['a2'][df['matHL']=='matH']\n",
    "a2_2=df['a2'][df['matHL']=='matL']\n",
    "print(\"a2:\",stats.ttest_ind(a2_1,a2_2))\n",
    "a3_1=df['a3'][df['matHL']=='matH']\n",
    "a3_2=df['a3'][df['matHL']=='matL']\n",
    "print(\"a3:\",stats.ttest_ind(a3_1,a3_2))   \n",
    "a4_1=df['a4'][df['matHL']=='matH']\n",
    "a4_2=df['a4'][df['matHL']=='matL']\n",
    "print(\"a4:\",stats.ttest_ind(a4_1,a4_2))\n",
    "a5_1=df['a5'][df['matHL']=='matH']\n",
    "a5_2=df['a5'][df['matHL']=='matL']\n",
    "print(\"a5:\",stats.ttest_ind(a5_1,a5_2))\n",
    "a6_1=df['a6'][df['matHL']=='matH']\n",
    "a6_2=df['a6'][df['matHL']=='matL']\n",
    "print(\"a6:\",stats.ttest_ind(a6_1,a6_2))\n",
    "a7_1=df['a7'][df['matHL']=='matH']\n",
    "a7_2=df['a7'][df['matHL']=='matL']\n",
    "print(\"a7:\",stats.ttest_ind(a7_1,a7_2))"
   ]
  },
  {
   "cell_type": "code",
   "execution_count": 18,
   "id": "0d364734",
   "metadata": {},
   "outputs": [
    {
     "name": "stdout",
     "output_type": "stream",
     "text": [
      "Index(['NO', 'Gender', 'DateOfBirth', 'Race', 'FaEdu', 'MomEdu', 'FaexpEdu',\n",
      "       'CoexpEdu', 'Income', 'Grade', 'Level', 'Sportyear', 'ExpectEdu', 'a1',\n",
      "       'a2', 'a3', 'a4', 'a5', 'a6', 'a7', 'b1', 'b2', 'b3', 'b4', 'b5', 'b6',\n",
      "       'c1', 'c2', 'c3', 'c4', 'c5', 'c6', 'c7', 'c8', 'c9', 'c10', 'pl', 'al',\n",
      "       'ss', 'tr', 'blue', 'achievement', 'alienance'],\n",
      "      dtype='object')\n"
     ]
    },
    {
     "data": {
      "text/plain": [
       "(0.6643822505197016, array([0.619, 0.706]))"
      ]
     },
     "execution_count": 18,
     "metadata": {},
     "output_type": "execute_result"
    }
   ],
   "source": [
    "#信度分析\n",
    "import pandas as pd \n",
    "import pingouin as pg\n",
    "df=pd.read_csv('python2011nsc.csv')\n",
    "print(df.columns)\n",
    "cronbach1=df[['a1','a2','a3','a4','a5','a6','a7']]\n",
    "pg.cronbach_alpha(cronbach1)\n"
   ]
  },
  {
   "cell_type": "code",
   "execution_count": 19,
   "id": "b9d8572a",
   "metadata": {},
   "outputs": [
    {
     "name": "stdout",
     "output_type": "stream",
     "text": [
      "(0.5889485878517906, array([0.524, 0.646]))\n",
      "(0.5872617738762134, array([0.527, 0.642]))\n"
     ]
    }
   ],
   "source": [
    "cronbach11=df[['a1','a2','a3']]\n",
    "cronbach12=df[['a4','a5','a6','a7']]\n",
    "cb11=pg.cronbach_alpha(cronbach11)\n",
    "cb12=pg.cronbach_alpha(cronbach12)\n",
    "print(cb11)\n",
    "print(cb12)"
   ]
  },
  {
   "cell_type": "code",
   "execution_count": null,
   "id": "c1e29081",
   "metadata": {},
   "outputs": [],
   "source": []
  }
 ],
 "metadata": {
  "kernelspec": {
   "display_name": "Python 3 (ipykernel)",
   "language": "python",
   "name": "python3"
  },
  "language_info": {
   "codemirror_mode": {
    "name": "ipython",
    "version": 3
   },
   "file_extension": ".py",
   "mimetype": "text/x-python",
   "name": "python",
   "nbconvert_exporter": "python",
   "pygments_lexer": "ipython3",
   "version": "3.9.13"
  }
 },
 "nbformat": 4,
 "nbformat_minor": 5
}
